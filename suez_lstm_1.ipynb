{
 "cells": [
  {
   "cell_type": "code",
   "execution_count": 1,
   "id": "39dfdfb2-3b89-454d-9d91-e4eca99ba0e1",
   "metadata": {
    "tags": []
   },
   "outputs": [],
   "source": [
    "import numpy as np\n",
    "import pandas as pd\n",
    "import matplotlib.pyplot as plt\n",
    "from tensorflow.keras.models import Sequential\n",
    "from tensorflow.keras.layers import LSTM, Dense, Bidirectional\n",
    "from sklearn.preprocessing import MinMaxScaler\n",
    "from sklearn.metrics import mean_squared_error, mean_absolute_error, r2_score\n",
    "from statsmodels.graphics.tsaplots import plot_acf, plot_pacf\n",
    "from sklearn.model_selection import train_test_split\n",
    "from sklearn.tree import DecisionTreeRegressor\n",
    "from sklearn.model_selection import GridSearchCV\n",
    "from sklearn.metrics import mean_squared_error as mse\n",
    "from sklearn.metrics import r2_score as r2\n",
    "from sklearn import preprocessing"
   ]
  },
  {
   "cell_type": "code",
   "execution_count": 2,
   "id": "9803b2d5-dc6c-4faf-ae0a-5a179b718ab6",
   "metadata": {
    "tags": []
   },
   "outputs": [],
   "source": [
    "df=pd.read_csv('chokepoint_2025.csv')"
   ]
  },
  {
   "cell_type": "code",
   "execution_count": 3,
   "id": "b308c682-0cb4-4e40-ab58-09e4341f84b9",
   "metadata": {
    "tags": []
   },
   "outputs": [],
   "source": [
    "df=pd.read_csv('chokepoint_2025.csv')\n",
    "df['date']=pd.to_datetime(df['date']).dt.strftime('%Y-%m-%d')\n",
    "#df=df[(df['date']>='2020-01-01')&(df['date']<='2025-02-09')].reset_index().drop('index',axis=1)"
   ]
  },
  {
   "cell_type": "code",
   "execution_count": 4,
   "id": "4049b62c-f2ce-44dd-ac55-fb9de25685f6",
   "metadata": {
    "tags": []
   },
   "outputs": [
    {
     "data": {
      "text/html": [
       "<div>\n",
       "<style scoped>\n",
       "    .dataframe tbody tr th:only-of-type {\n",
       "        vertical-align: middle;\n",
       "    }\n",
       "\n",
       "    .dataframe tbody tr th {\n",
       "        vertical-align: top;\n",
       "    }\n",
       "\n",
       "    .dataframe thead th {\n",
       "        text-align: right;\n",
       "    }\n",
       "</style>\n",
       "<table border=\"1\" class=\"dataframe\">\n",
       "  <thead>\n",
       "    <tr style=\"text-align: right;\">\n",
       "      <th></th>\n",
       "      <th>date</th>\n",
       "      <th>year</th>\n",
       "      <th>month</th>\n",
       "      <th>day</th>\n",
       "      <th>portid</th>\n",
       "      <th>portname</th>\n",
       "      <th>n_container</th>\n",
       "      <th>n_dry_bulk</th>\n",
       "      <th>n_general_cargo</th>\n",
       "      <th>n_roro</th>\n",
       "      <th>...</th>\n",
       "      <th>n_cargo</th>\n",
       "      <th>n_total</th>\n",
       "      <th>capacity_container</th>\n",
       "      <th>capacity_dry_bulk</th>\n",
       "      <th>capacity_general_cargo</th>\n",
       "      <th>capacity_roro</th>\n",
       "      <th>capacity_tanker</th>\n",
       "      <th>capacity_cargo</th>\n",
       "      <th>capacity</th>\n",
       "      <th>ObjectId</th>\n",
       "    </tr>\n",
       "  </thead>\n",
       "  <tbody>\n",
       "    <tr>\n",
       "      <th>0</th>\n",
       "      <td>2019-01-01</td>\n",
       "      <td>2019</td>\n",
       "      <td>1</td>\n",
       "      <td>1</td>\n",
       "      <td>chokepoint1</td>\n",
       "      <td>Suez Canal</td>\n",
       "      <td>21</td>\n",
       "      <td>24</td>\n",
       "      <td>17</td>\n",
       "      <td>5</td>\n",
       "      <td>...</td>\n",
       "      <td>67</td>\n",
       "      <td>89</td>\n",
       "      <td>1.089470e+06</td>\n",
       "      <td>9.051440e+05</td>\n",
       "      <td>135760.142456</td>\n",
       "      <td>21022.019435</td>\n",
       "      <td>1.191096e+06</td>\n",
       "      <td>2.151396e+06</td>\n",
       "      <td>3.342492e+06</td>\n",
       "      <td>1</td>\n",
       "    </tr>\n",
       "    <tr>\n",
       "      <th>1</th>\n",
       "      <td>2019-01-02</td>\n",
       "      <td>2019</td>\n",
       "      <td>1</td>\n",
       "      <td>2</td>\n",
       "      <td>chokepoint1</td>\n",
       "      <td>Suez Canal</td>\n",
       "      <td>22</td>\n",
       "      <td>6</td>\n",
       "      <td>8</td>\n",
       "      <td>7</td>\n",
       "      <td>...</td>\n",
       "      <td>43</td>\n",
       "      <td>52</td>\n",
       "      <td>1.505460e+06</td>\n",
       "      <td>3.235757e+05</td>\n",
       "      <td>7951.163188</td>\n",
       "      <td>55181.181876</td>\n",
       "      <td>4.554950e+05</td>\n",
       "      <td>1.892168e+06</td>\n",
       "      <td>2.347663e+06</td>\n",
       "      <td>2</td>\n",
       "    </tr>\n",
       "    <tr>\n",
       "      <th>2</th>\n",
       "      <td>2019-01-03</td>\n",
       "      <td>2019</td>\n",
       "      <td>1</td>\n",
       "      <td>3</td>\n",
       "      <td>chokepoint1</td>\n",
       "      <td>Suez Canal</td>\n",
       "      <td>12</td>\n",
       "      <td>17</td>\n",
       "      <td>9</td>\n",
       "      <td>3</td>\n",
       "      <td>...</td>\n",
       "      <td>41</td>\n",
       "      <td>62</td>\n",
       "      <td>4.743254e+05</td>\n",
       "      <td>1.109482e+06</td>\n",
       "      <td>35746.520070</td>\n",
       "      <td>23785.885290</td>\n",
       "      <td>5.717003e+05</td>\n",
       "      <td>1.643340e+06</td>\n",
       "      <td>2.215040e+06</td>\n",
       "      <td>3</td>\n",
       "    </tr>\n",
       "    <tr>\n",
       "      <th>3</th>\n",
       "      <td>2019-01-04</td>\n",
       "      <td>2019</td>\n",
       "      <td>1</td>\n",
       "      <td>4</td>\n",
       "      <td>chokepoint1</td>\n",
       "      <td>Suez Canal</td>\n",
       "      <td>18</td>\n",
       "      <td>11</td>\n",
       "      <td>2</td>\n",
       "      <td>1</td>\n",
       "      <td>...</td>\n",
       "      <td>32</td>\n",
       "      <td>47</td>\n",
       "      <td>1.118255e+06</td>\n",
       "      <td>4.216106e+05</td>\n",
       "      <td>0.000000</td>\n",
       "      <td>7595.724839</td>\n",
       "      <td>7.139619e+05</td>\n",
       "      <td>1.547461e+06</td>\n",
       "      <td>2.261423e+06</td>\n",
       "      <td>4</td>\n",
       "    </tr>\n",
       "    <tr>\n",
       "      <th>4</th>\n",
       "      <td>2019-01-05</td>\n",
       "      <td>2019</td>\n",
       "      <td>1</td>\n",
       "      <td>5</td>\n",
       "      <td>chokepoint1</td>\n",
       "      <td>Suez Canal</td>\n",
       "      <td>20</td>\n",
       "      <td>8</td>\n",
       "      <td>2</td>\n",
       "      <td>1</td>\n",
       "      <td>...</td>\n",
       "      <td>31</td>\n",
       "      <td>44</td>\n",
       "      <td>1.305583e+06</td>\n",
       "      <td>7.112837e+05</td>\n",
       "      <td>17053.275000</td>\n",
       "      <td>8758.480096</td>\n",
       "      <td>6.389953e+05</td>\n",
       "      <td>2.042679e+06</td>\n",
       "      <td>2.681674e+06</td>\n",
       "      <td>5</td>\n",
       "    </tr>\n",
       "    <tr>\n",
       "      <th>...</th>\n",
       "      <td>...</td>\n",
       "      <td>...</td>\n",
       "      <td>...</td>\n",
       "      <td>...</td>\n",
       "      <td>...</td>\n",
       "      <td>...</td>\n",
       "      <td>...</td>\n",
       "      <td>...</td>\n",
       "      <td>...</td>\n",
       "      <td>...</td>\n",
       "      <td>...</td>\n",
       "      <td>...</td>\n",
       "      <td>...</td>\n",
       "      <td>...</td>\n",
       "      <td>...</td>\n",
       "      <td>...</td>\n",
       "      <td>...</td>\n",
       "      <td>...</td>\n",
       "      <td>...</td>\n",
       "      <td>...</td>\n",
       "      <td>...</td>\n",
       "    </tr>\n",
       "    <tr>\n",
       "      <th>53563</th>\n",
       "      <td>2024-07-11</td>\n",
       "      <td>2024</td>\n",
       "      <td>7</td>\n",
       "      <td>11</td>\n",
       "      <td>chokepoint9</td>\n",
       "      <td>Dover Strait</td>\n",
       "      <td>28</td>\n",
       "      <td>31</td>\n",
       "      <td>39</td>\n",
       "      <td>11</td>\n",
       "      <td>...</td>\n",
       "      <td>109</td>\n",
       "      <td>161</td>\n",
       "      <td>7.086941e+05</td>\n",
       "      <td>1.415163e+06</td>\n",
       "      <td>60669.055566</td>\n",
       "      <td>72881.702220</td>\n",
       "      <td>1.844592e+06</td>\n",
       "      <td>2.257408e+06</td>\n",
       "      <td>4.102000e+06</td>\n",
       "      <td>53564</td>\n",
       "    </tr>\n",
       "    <tr>\n",
       "      <th>53564</th>\n",
       "      <td>2024-07-12</td>\n",
       "      <td>2024</td>\n",
       "      <td>7</td>\n",
       "      <td>12</td>\n",
       "      <td>chokepoint9</td>\n",
       "      <td>Dover Strait</td>\n",
       "      <td>39</td>\n",
       "      <td>20</td>\n",
       "      <td>38</td>\n",
       "      <td>10</td>\n",
       "      <td>...</td>\n",
       "      <td>107</td>\n",
       "      <td>175</td>\n",
       "      <td>1.256194e+06</td>\n",
       "      <td>6.710552e+05</td>\n",
       "      <td>122890.041458</td>\n",
       "      <td>23119.242723</td>\n",
       "      <td>1.516246e+06</td>\n",
       "      <td>2.073259e+06</td>\n",
       "      <td>3.589505e+06</td>\n",
       "      <td>53565</td>\n",
       "    </tr>\n",
       "    <tr>\n",
       "      <th>53565</th>\n",
       "      <td>2024-07-13</td>\n",
       "      <td>2024</td>\n",
       "      <td>7</td>\n",
       "      <td>13</td>\n",
       "      <td>chokepoint9</td>\n",
       "      <td>Dover Strait</td>\n",
       "      <td>31</td>\n",
       "      <td>23</td>\n",
       "      <td>46</td>\n",
       "      <td>7</td>\n",
       "      <td>...</td>\n",
       "      <td>107</td>\n",
       "      <td>158</td>\n",
       "      <td>8.431695e+05</td>\n",
       "      <td>9.286497e+05</td>\n",
       "      <td>76518.947681</td>\n",
       "      <td>26175.210559</td>\n",
       "      <td>1.514573e+06</td>\n",
       "      <td>1.874513e+06</td>\n",
       "      <td>3.389086e+06</td>\n",
       "      <td>53566</td>\n",
       "    </tr>\n",
       "    <tr>\n",
       "      <th>53566</th>\n",
       "      <td>2024-07-14</td>\n",
       "      <td>2024</td>\n",
       "      <td>7</td>\n",
       "      <td>14</td>\n",
       "      <td>chokepoint9</td>\n",
       "      <td>Dover Strait</td>\n",
       "      <td>30</td>\n",
       "      <td>16</td>\n",
       "      <td>50</td>\n",
       "      <td>14</td>\n",
       "      <td>...</td>\n",
       "      <td>110</td>\n",
       "      <td>172</td>\n",
       "      <td>5.483827e+05</td>\n",
       "      <td>3.883095e+05</td>\n",
       "      <td>101560.732464</td>\n",
       "      <td>67038.186369</td>\n",
       "      <td>1.155255e+06</td>\n",
       "      <td>1.105291e+06</td>\n",
       "      <td>2.260546e+06</td>\n",
       "      <td>53567</td>\n",
       "    </tr>\n",
       "    <tr>\n",
       "      <th>53567</th>\n",
       "      <td>2024-07-15</td>\n",
       "      <td>2024</td>\n",
       "      <td>7</td>\n",
       "      <td>15</td>\n",
       "      <td>chokepoint9</td>\n",
       "      <td>Dover Strait</td>\n",
       "      <td>41</td>\n",
       "      <td>19</td>\n",
       "      <td>26</td>\n",
       "      <td>9</td>\n",
       "      <td>...</td>\n",
       "      <td>95</td>\n",
       "      <td>143</td>\n",
       "      <td>1.224107e+06</td>\n",
       "      <td>7.642521e+05</td>\n",
       "      <td>78366.455693</td>\n",
       "      <td>21080.504459</td>\n",
       "      <td>1.343488e+06</td>\n",
       "      <td>2.087806e+06</td>\n",
       "      <td>3.431294e+06</td>\n",
       "      <td>53568</td>\n",
       "    </tr>\n",
       "  </tbody>\n",
       "</table>\n",
       "<p>53568 rows × 21 columns</p>\n",
       "</div>"
      ],
      "text/plain": [
       "             date  year  month  day       portid      portname  n_container  \\\n",
       "0      2019-01-01  2019      1    1  chokepoint1    Suez Canal           21   \n",
       "1      2019-01-02  2019      1    2  chokepoint1    Suez Canal           22   \n",
       "2      2019-01-03  2019      1    3  chokepoint1    Suez Canal           12   \n",
       "3      2019-01-04  2019      1    4  chokepoint1    Suez Canal           18   \n",
       "4      2019-01-05  2019      1    5  chokepoint1    Suez Canal           20   \n",
       "...           ...   ...    ...  ...          ...           ...          ...   \n",
       "53563  2024-07-11  2024      7   11  chokepoint9  Dover Strait           28   \n",
       "53564  2024-07-12  2024      7   12  chokepoint9  Dover Strait           39   \n",
       "53565  2024-07-13  2024      7   13  chokepoint9  Dover Strait           31   \n",
       "53566  2024-07-14  2024      7   14  chokepoint9  Dover Strait           30   \n",
       "53567  2024-07-15  2024      7   15  chokepoint9  Dover Strait           41   \n",
       "\n",
       "       n_dry_bulk  n_general_cargo  n_roro  ...  n_cargo  n_total  \\\n",
       "0              24               17       5  ...       67       89   \n",
       "1               6                8       7  ...       43       52   \n",
       "2              17                9       3  ...       41       62   \n",
       "3              11                2       1  ...       32       47   \n",
       "4               8                2       1  ...       31       44   \n",
       "...           ...              ...     ...  ...      ...      ...   \n",
       "53563          31               39      11  ...      109      161   \n",
       "53564          20               38      10  ...      107      175   \n",
       "53565          23               46       7  ...      107      158   \n",
       "53566          16               50      14  ...      110      172   \n",
       "53567          19               26       9  ...       95      143   \n",
       "\n",
       "       capacity_container  capacity_dry_bulk  capacity_general_cargo  \\\n",
       "0            1.089470e+06       9.051440e+05           135760.142456   \n",
       "1            1.505460e+06       3.235757e+05             7951.163188   \n",
       "2            4.743254e+05       1.109482e+06            35746.520070   \n",
       "3            1.118255e+06       4.216106e+05                0.000000   \n",
       "4            1.305583e+06       7.112837e+05            17053.275000   \n",
       "...                   ...                ...                     ...   \n",
       "53563        7.086941e+05       1.415163e+06            60669.055566   \n",
       "53564        1.256194e+06       6.710552e+05           122890.041458   \n",
       "53565        8.431695e+05       9.286497e+05            76518.947681   \n",
       "53566        5.483827e+05       3.883095e+05           101560.732464   \n",
       "53567        1.224107e+06       7.642521e+05            78366.455693   \n",
       "\n",
       "       capacity_roro  capacity_tanker  capacity_cargo      capacity  ObjectId  \n",
       "0       21022.019435     1.191096e+06    2.151396e+06  3.342492e+06         1  \n",
       "1       55181.181876     4.554950e+05    1.892168e+06  2.347663e+06         2  \n",
       "2       23785.885290     5.717003e+05    1.643340e+06  2.215040e+06         3  \n",
       "3        7595.724839     7.139619e+05    1.547461e+06  2.261423e+06         4  \n",
       "4        8758.480096     6.389953e+05    2.042679e+06  2.681674e+06         5  \n",
       "...              ...              ...             ...           ...       ...  \n",
       "53563   72881.702220     1.844592e+06    2.257408e+06  4.102000e+06     53564  \n",
       "53564   23119.242723     1.516246e+06    2.073259e+06  3.589505e+06     53565  \n",
       "53565   26175.210559     1.514573e+06    1.874513e+06  3.389086e+06     53566  \n",
       "53566   67038.186369     1.155255e+06    1.105291e+06  2.260546e+06     53567  \n",
       "53567   21080.504459     1.343488e+06    2.087806e+06  3.431294e+06     53568  \n",
       "\n",
       "[53568 rows x 21 columns]"
      ]
     },
     "execution_count": 4,
     "metadata": {},
     "output_type": "execute_result"
    }
   ],
   "source": [
    "df"
   ]
  },
  {
   "cell_type": "code",
   "execution_count": 5,
   "id": "bd37b23b-78e7-4bba-b784-385a76a1a430",
   "metadata": {
    "tags": []
   },
   "outputs": [
    {
     "data": {
      "text/html": [
       "<div>\n",
       "<style scoped>\n",
       "    .dataframe tbody tr th:only-of-type {\n",
       "        vertical-align: middle;\n",
       "    }\n",
       "\n",
       "    .dataframe tbody tr th {\n",
       "        vertical-align: top;\n",
       "    }\n",
       "\n",
       "    .dataframe thead th {\n",
       "        text-align: right;\n",
       "    }\n",
       "</style>\n",
       "<table border=\"1\" class=\"dataframe\">\n",
       "  <thead>\n",
       "    <tr style=\"text-align: right;\">\n",
       "      <th></th>\n",
       "      <th>date</th>\n",
       "      <th>year</th>\n",
       "      <th>month</th>\n",
       "      <th>day</th>\n",
       "      <th>portid</th>\n",
       "      <th>portname</th>\n",
       "      <th>n_container</th>\n",
       "      <th>n_dry_bulk</th>\n",
       "      <th>n_general_cargo</th>\n",
       "      <th>n_roro</th>\n",
       "      <th>...</th>\n",
       "      <th>n_cargo</th>\n",
       "      <th>n_total</th>\n",
       "      <th>capacity_container</th>\n",
       "      <th>capacity_dry_bulk</th>\n",
       "      <th>capacity_general_cargo</th>\n",
       "      <th>capacity_roro</th>\n",
       "      <th>capacity_tanker</th>\n",
       "      <th>capacity_cargo</th>\n",
       "      <th>capacity</th>\n",
       "      <th>ObjectId</th>\n",
       "    </tr>\n",
       "  </thead>\n",
       "  <tbody>\n",
       "    <tr>\n",
       "      <th>0</th>\n",
       "      <td>2019-01-01</td>\n",
       "      <td>2019</td>\n",
       "      <td>1</td>\n",
       "      <td>1</td>\n",
       "      <td>chokepoint1</td>\n",
       "      <td>Suez Canal</td>\n",
       "      <td>21</td>\n",
       "      <td>24</td>\n",
       "      <td>17</td>\n",
       "      <td>5</td>\n",
       "      <td>...</td>\n",
       "      <td>67</td>\n",
       "      <td>89</td>\n",
       "      <td>1.089470e+06</td>\n",
       "      <td>9.051440e+05</td>\n",
       "      <td>135760.142456</td>\n",
       "      <td>21022.019435</td>\n",
       "      <td>1.191096e+06</td>\n",
       "      <td>2.151396e+06</td>\n",
       "      <td>3.342492e+06</td>\n",
       "      <td>1</td>\n",
       "    </tr>\n",
       "    <tr>\n",
       "      <th>1</th>\n",
       "      <td>2019-01-02</td>\n",
       "      <td>2019</td>\n",
       "      <td>1</td>\n",
       "      <td>2</td>\n",
       "      <td>chokepoint1</td>\n",
       "      <td>Suez Canal</td>\n",
       "      <td>22</td>\n",
       "      <td>6</td>\n",
       "      <td>8</td>\n",
       "      <td>7</td>\n",
       "      <td>...</td>\n",
       "      <td>43</td>\n",
       "      <td>52</td>\n",
       "      <td>1.505460e+06</td>\n",
       "      <td>3.235757e+05</td>\n",
       "      <td>7951.163188</td>\n",
       "      <td>55181.181876</td>\n",
       "      <td>4.554950e+05</td>\n",
       "      <td>1.892168e+06</td>\n",
       "      <td>2.347663e+06</td>\n",
       "      <td>2</td>\n",
       "    </tr>\n",
       "    <tr>\n",
       "      <th>2</th>\n",
       "      <td>2019-01-03</td>\n",
       "      <td>2019</td>\n",
       "      <td>1</td>\n",
       "      <td>3</td>\n",
       "      <td>chokepoint1</td>\n",
       "      <td>Suez Canal</td>\n",
       "      <td>12</td>\n",
       "      <td>17</td>\n",
       "      <td>9</td>\n",
       "      <td>3</td>\n",
       "      <td>...</td>\n",
       "      <td>41</td>\n",
       "      <td>62</td>\n",
       "      <td>4.743254e+05</td>\n",
       "      <td>1.109482e+06</td>\n",
       "      <td>35746.520070</td>\n",
       "      <td>23785.885290</td>\n",
       "      <td>5.717003e+05</td>\n",
       "      <td>1.643340e+06</td>\n",
       "      <td>2.215040e+06</td>\n",
       "      <td>3</td>\n",
       "    </tr>\n",
       "    <tr>\n",
       "      <th>3</th>\n",
       "      <td>2019-01-04</td>\n",
       "      <td>2019</td>\n",
       "      <td>1</td>\n",
       "      <td>4</td>\n",
       "      <td>chokepoint1</td>\n",
       "      <td>Suez Canal</td>\n",
       "      <td>18</td>\n",
       "      <td>11</td>\n",
       "      <td>2</td>\n",
       "      <td>1</td>\n",
       "      <td>...</td>\n",
       "      <td>32</td>\n",
       "      <td>47</td>\n",
       "      <td>1.118255e+06</td>\n",
       "      <td>4.216106e+05</td>\n",
       "      <td>0.000000</td>\n",
       "      <td>7595.724839</td>\n",
       "      <td>7.139619e+05</td>\n",
       "      <td>1.547461e+06</td>\n",
       "      <td>2.261423e+06</td>\n",
       "      <td>4</td>\n",
       "    </tr>\n",
       "    <tr>\n",
       "      <th>4</th>\n",
       "      <td>2019-01-05</td>\n",
       "      <td>2019</td>\n",
       "      <td>1</td>\n",
       "      <td>5</td>\n",
       "      <td>chokepoint1</td>\n",
       "      <td>Suez Canal</td>\n",
       "      <td>20</td>\n",
       "      <td>8</td>\n",
       "      <td>2</td>\n",
       "      <td>1</td>\n",
       "      <td>...</td>\n",
       "      <td>31</td>\n",
       "      <td>44</td>\n",
       "      <td>1.305583e+06</td>\n",
       "      <td>7.112837e+05</td>\n",
       "      <td>17053.275000</td>\n",
       "      <td>8758.480096</td>\n",
       "      <td>6.389953e+05</td>\n",
       "      <td>2.042679e+06</td>\n",
       "      <td>2.681674e+06</td>\n",
       "      <td>5</td>\n",
       "    </tr>\n",
       "    <tr>\n",
       "      <th>...</th>\n",
       "      <td>...</td>\n",
       "      <td>...</td>\n",
       "      <td>...</td>\n",
       "      <td>...</td>\n",
       "      <td>...</td>\n",
       "      <td>...</td>\n",
       "      <td>...</td>\n",
       "      <td>...</td>\n",
       "      <td>...</td>\n",
       "      <td>...</td>\n",
       "      <td>...</td>\n",
       "      <td>...</td>\n",
       "      <td>...</td>\n",
       "      <td>...</td>\n",
       "      <td>...</td>\n",
       "      <td>...</td>\n",
       "      <td>...</td>\n",
       "      <td>...</td>\n",
       "      <td>...</td>\n",
       "      <td>...</td>\n",
       "      <td>...</td>\n",
       "    </tr>\n",
       "    <tr>\n",
       "      <th>2395</th>\n",
       "      <td>2025-01-04</td>\n",
       "      <td>2025</td>\n",
       "      <td>1</td>\n",
       "      <td>4</td>\n",
       "      <td>chokepoint1</td>\n",
       "      <td>Suez Canal</td>\n",
       "      <td>6</td>\n",
       "      <td>9</td>\n",
       "      <td>5</td>\n",
       "      <td>0</td>\n",
       "      <td>...</td>\n",
       "      <td>20</td>\n",
       "      <td>29</td>\n",
       "      <td>1.399886e+05</td>\n",
       "      <td>4.686452e+05</td>\n",
       "      <td>6635.234646</td>\n",
       "      <td>0.000000</td>\n",
       "      <td>2.323701e+05</td>\n",
       "      <td>6.152690e+05</td>\n",
       "      <td>8.476392e+05</td>\n",
       "      <td>2396</td>\n",
       "    </tr>\n",
       "    <tr>\n",
       "      <th>2396</th>\n",
       "      <td>2025-01-05</td>\n",
       "      <td>2025</td>\n",
       "      <td>1</td>\n",
       "      <td>5</td>\n",
       "      <td>chokepoint1</td>\n",
       "      <td>Suez Canal</td>\n",
       "      <td>8</td>\n",
       "      <td>3</td>\n",
       "      <td>6</td>\n",
       "      <td>1</td>\n",
       "      <td>...</td>\n",
       "      <td>18</td>\n",
       "      <td>30</td>\n",
       "      <td>3.023797e+05</td>\n",
       "      <td>8.590534e+04</td>\n",
       "      <td>5420.184850</td>\n",
       "      <td>0.000000</td>\n",
       "      <td>6.804545e+05</td>\n",
       "      <td>3.937052e+05</td>\n",
       "      <td>1.074160e+06</td>\n",
       "      <td>2397</td>\n",
       "    </tr>\n",
       "    <tr>\n",
       "      <th>2397</th>\n",
       "      <td>2025-01-06</td>\n",
       "      <td>2025</td>\n",
       "      <td>1</td>\n",
       "      <td>6</td>\n",
       "      <td>chokepoint1</td>\n",
       "      <td>Suez Canal</td>\n",
       "      <td>13</td>\n",
       "      <td>20</td>\n",
       "      <td>5</td>\n",
       "      <td>1</td>\n",
       "      <td>...</td>\n",
       "      <td>39</td>\n",
       "      <td>55</td>\n",
       "      <td>3.057893e+05</td>\n",
       "      <td>7.413007e+05</td>\n",
       "      <td>1441.612810</td>\n",
       "      <td>7376.505542</td>\n",
       "      <td>6.950078e+05</td>\n",
       "      <td>1.055908e+06</td>\n",
       "      <td>1.750916e+06</td>\n",
       "      <td>2398</td>\n",
       "    </tr>\n",
       "    <tr>\n",
       "      <th>2398</th>\n",
       "      <td>2025-01-07</td>\n",
       "      <td>2025</td>\n",
       "      <td>1</td>\n",
       "      <td>7</td>\n",
       "      <td>chokepoint1</td>\n",
       "      <td>Suez Canal</td>\n",
       "      <td>8</td>\n",
       "      <td>12</td>\n",
       "      <td>4</td>\n",
       "      <td>0</td>\n",
       "      <td>...</td>\n",
       "      <td>24</td>\n",
       "      <td>41</td>\n",
       "      <td>1.019538e+05</td>\n",
       "      <td>5.108506e+05</td>\n",
       "      <td>29946.088653</td>\n",
       "      <td>0.000000</td>\n",
       "      <td>1.018729e+06</td>\n",
       "      <td>6.427505e+05</td>\n",
       "      <td>1.661480e+06</td>\n",
       "      <td>2399</td>\n",
       "    </tr>\n",
       "    <tr>\n",
       "      <th>2399</th>\n",
       "      <td>2025-01-08</td>\n",
       "      <td>2025</td>\n",
       "      <td>1</td>\n",
       "      <td>8</td>\n",
       "      <td>chokepoint1</td>\n",
       "      <td>Suez Canal</td>\n",
       "      <td>5</td>\n",
       "      <td>10</td>\n",
       "      <td>8</td>\n",
       "      <td>1</td>\n",
       "      <td>...</td>\n",
       "      <td>24</td>\n",
       "      <td>32</td>\n",
       "      <td>8.844126e+04</td>\n",
       "      <td>6.729675e+05</td>\n",
       "      <td>13122.143907</td>\n",
       "      <td>0.000000</td>\n",
       "      <td>2.634134e+05</td>\n",
       "      <td>7.745309e+05</td>\n",
       "      <td>1.037944e+06</td>\n",
       "      <td>2400</td>\n",
       "    </tr>\n",
       "  </tbody>\n",
       "</table>\n",
       "<p>2232 rows × 21 columns</p>\n",
       "</div>"
      ],
      "text/plain": [
       "            date  year  month  day       portid    portname  n_container  \\\n",
       "0     2019-01-01  2019      1    1  chokepoint1  Suez Canal           21   \n",
       "1     2019-01-02  2019      1    2  chokepoint1  Suez Canal           22   \n",
       "2     2019-01-03  2019      1    3  chokepoint1  Suez Canal           12   \n",
       "3     2019-01-04  2019      1    4  chokepoint1  Suez Canal           18   \n",
       "4     2019-01-05  2019      1    5  chokepoint1  Suez Canal           20   \n",
       "...          ...   ...    ...  ...          ...         ...          ...   \n",
       "2395  2025-01-04  2025      1    4  chokepoint1  Suez Canal            6   \n",
       "2396  2025-01-05  2025      1    5  chokepoint1  Suez Canal            8   \n",
       "2397  2025-01-06  2025      1    6  chokepoint1  Suez Canal           13   \n",
       "2398  2025-01-07  2025      1    7  chokepoint1  Suez Canal            8   \n",
       "2399  2025-01-08  2025      1    8  chokepoint1  Suez Canal            5   \n",
       "\n",
       "      n_dry_bulk  n_general_cargo  n_roro  ...  n_cargo  n_total  \\\n",
       "0             24               17       5  ...       67       89   \n",
       "1              6                8       7  ...       43       52   \n",
       "2             17                9       3  ...       41       62   \n",
       "3             11                2       1  ...       32       47   \n",
       "4              8                2       1  ...       31       44   \n",
       "...          ...              ...     ...  ...      ...      ...   \n",
       "2395           9                5       0  ...       20       29   \n",
       "2396           3                6       1  ...       18       30   \n",
       "2397          20                5       1  ...       39       55   \n",
       "2398          12                4       0  ...       24       41   \n",
       "2399          10                8       1  ...       24       32   \n",
       "\n",
       "      capacity_container  capacity_dry_bulk  capacity_general_cargo  \\\n",
       "0           1.089470e+06       9.051440e+05           135760.142456   \n",
       "1           1.505460e+06       3.235757e+05             7951.163188   \n",
       "2           4.743254e+05       1.109482e+06            35746.520070   \n",
       "3           1.118255e+06       4.216106e+05                0.000000   \n",
       "4           1.305583e+06       7.112837e+05            17053.275000   \n",
       "...                  ...                ...                     ...   \n",
       "2395        1.399886e+05       4.686452e+05             6635.234646   \n",
       "2396        3.023797e+05       8.590534e+04             5420.184850   \n",
       "2397        3.057893e+05       7.413007e+05             1441.612810   \n",
       "2398        1.019538e+05       5.108506e+05            29946.088653   \n",
       "2399        8.844126e+04       6.729675e+05            13122.143907   \n",
       "\n",
       "      capacity_roro  capacity_tanker  capacity_cargo      capacity  ObjectId  \n",
       "0      21022.019435     1.191096e+06    2.151396e+06  3.342492e+06         1  \n",
       "1      55181.181876     4.554950e+05    1.892168e+06  2.347663e+06         2  \n",
       "2      23785.885290     5.717003e+05    1.643340e+06  2.215040e+06         3  \n",
       "3       7595.724839     7.139619e+05    1.547461e+06  2.261423e+06         4  \n",
       "4       8758.480096     6.389953e+05    2.042679e+06  2.681674e+06         5  \n",
       "...             ...              ...             ...           ...       ...  \n",
       "2395       0.000000     2.323701e+05    6.152690e+05  8.476392e+05      2396  \n",
       "2396       0.000000     6.804545e+05    3.937052e+05  1.074160e+06      2397  \n",
       "2397    7376.505542     6.950078e+05    1.055908e+06  1.750916e+06      2398  \n",
       "2398       0.000000     1.018729e+06    6.427505e+05  1.661480e+06      2399  \n",
       "2399       0.000000     2.634134e+05    7.745309e+05  1.037944e+06      2400  \n",
       "\n",
       "[2232 rows x 21 columns]"
      ]
     },
     "execution_count": 5,
     "metadata": {},
     "output_type": "execute_result"
    }
   ],
   "source": [
    "df=df[df['portname']=='Suez Canal']\n",
    "df"
   ]
  },
  {
   "cell_type": "code",
   "execution_count": 6,
   "id": "94807cc9-6676-4651-b421-1c8f378cf069",
   "metadata": {
    "tags": []
   },
   "outputs": [
    {
     "data": {
      "text/html": [
       "<div>\n",
       "<style scoped>\n",
       "    .dataframe tbody tr th:only-of-type {\n",
       "        vertical-align: middle;\n",
       "    }\n",
       "\n",
       "    .dataframe tbody tr th {\n",
       "        vertical-align: top;\n",
       "    }\n",
       "\n",
       "    .dataframe thead th {\n",
       "        text-align: right;\n",
       "    }\n",
       "</style>\n",
       "<table border=\"1\" class=\"dataframe\">\n",
       "  <thead>\n",
       "    <tr style=\"text-align: right;\">\n",
       "      <th></th>\n",
       "      <th>date</th>\n",
       "      <th>n_total</th>\n",
       "    </tr>\n",
       "  </thead>\n",
       "  <tbody>\n",
       "    <tr>\n",
       "      <th>0</th>\n",
       "      <td>2019-01-01</td>\n",
       "      <td>89</td>\n",
       "    </tr>\n",
       "    <tr>\n",
       "      <th>1</th>\n",
       "      <td>2019-01-02</td>\n",
       "      <td>52</td>\n",
       "    </tr>\n",
       "    <tr>\n",
       "      <th>2</th>\n",
       "      <td>2019-01-03</td>\n",
       "      <td>62</td>\n",
       "    </tr>\n",
       "    <tr>\n",
       "      <th>3</th>\n",
       "      <td>2019-01-04</td>\n",
       "      <td>47</td>\n",
       "    </tr>\n",
       "    <tr>\n",
       "      <th>4</th>\n",
       "      <td>2019-01-05</td>\n",
       "      <td>44</td>\n",
       "    </tr>\n",
       "    <tr>\n",
       "      <th>...</th>\n",
       "      <td>...</td>\n",
       "      <td>...</td>\n",
       "    </tr>\n",
       "    <tr>\n",
       "      <th>2227</th>\n",
       "      <td>2025-02-05</td>\n",
       "      <td>32</td>\n",
       "    </tr>\n",
       "    <tr>\n",
       "      <th>2228</th>\n",
       "      <td>2025-02-06</td>\n",
       "      <td>30</td>\n",
       "    </tr>\n",
       "    <tr>\n",
       "      <th>2229</th>\n",
       "      <td>2025-02-07</td>\n",
       "      <td>30</td>\n",
       "    </tr>\n",
       "    <tr>\n",
       "      <th>2230</th>\n",
       "      <td>2025-02-08</td>\n",
       "      <td>22</td>\n",
       "    </tr>\n",
       "    <tr>\n",
       "      <th>2231</th>\n",
       "      <td>2025-02-09</td>\n",
       "      <td>46</td>\n",
       "    </tr>\n",
       "  </tbody>\n",
       "</table>\n",
       "<p>2232 rows × 2 columns</p>\n",
       "</div>"
      ],
      "text/plain": [
       "            date  n_total\n",
       "0     2019-01-01       89\n",
       "1     2019-01-02       52\n",
       "2     2019-01-03       62\n",
       "3     2019-01-04       47\n",
       "4     2019-01-05       44\n",
       "...          ...      ...\n",
       "2227  2025-02-05       32\n",
       "2228  2025-02-06       30\n",
       "2229  2025-02-07       30\n",
       "2230  2025-02-08       22\n",
       "2231  2025-02-09       46\n",
       "\n",
       "[2232 rows x 2 columns]"
      ]
     },
     "execution_count": 6,
     "metadata": {},
     "output_type": "execute_result"
    }
   ],
   "source": [
    "df=df[['date','n_total']]\n",
    "df=df.groupby('date').sum().reset_index()\n",
    "df"
   ]
  },
  {
   "cell_type": "code",
   "execution_count": 7,
   "id": "8a0687d4-35f0-4936-b83f-a9333b5e64b9",
   "metadata": {
    "tags": []
   },
   "outputs": [
    {
     "data": {
      "text/plain": [
       "date       object\n",
       "n_total     int64\n",
       "dtype: object"
      ]
     },
     "execution_count": 7,
     "metadata": {},
     "output_type": "execute_result"
    }
   ],
   "source": [
    "df.dtypes"
   ]
  },
  {
   "cell_type": "code",
   "execution_count": 8,
   "id": "eab20bc7-097e-473c-86c0-e3d4320901c5",
   "metadata": {
    "tags": []
   },
   "outputs": [
    {
     "data": {
      "text/html": [
       "<div>\n",
       "<style scoped>\n",
       "    .dataframe tbody tr th:only-of-type {\n",
       "        vertical-align: middle;\n",
       "    }\n",
       "\n",
       "    .dataframe tbody tr th {\n",
       "        vertical-align: top;\n",
       "    }\n",
       "\n",
       "    .dataframe thead th {\n",
       "        text-align: right;\n",
       "    }\n",
       "</style>\n",
       "<table border=\"1\" class=\"dataframe\">\n",
       "  <thead>\n",
       "    <tr style=\"text-align: right;\">\n",
       "      <th></th>\n",
       "      <th>n_total</th>\n",
       "    </tr>\n",
       "    <tr>\n",
       "      <th>date</th>\n",
       "      <th></th>\n",
       "    </tr>\n",
       "  </thead>\n",
       "  <tbody>\n",
       "    <tr>\n",
       "      <th>2019-01-01</th>\n",
       "      <td>89</td>\n",
       "    </tr>\n",
       "    <tr>\n",
       "      <th>2019-01-02</th>\n",
       "      <td>52</td>\n",
       "    </tr>\n",
       "    <tr>\n",
       "      <th>2019-01-03</th>\n",
       "      <td>62</td>\n",
       "    </tr>\n",
       "    <tr>\n",
       "      <th>2019-01-04</th>\n",
       "      <td>47</td>\n",
       "    </tr>\n",
       "    <tr>\n",
       "      <th>2019-01-05</th>\n",
       "      <td>44</td>\n",
       "    </tr>\n",
       "    <tr>\n",
       "      <th>...</th>\n",
       "      <td>...</td>\n",
       "    </tr>\n",
       "    <tr>\n",
       "      <th>2025-02-05</th>\n",
       "      <td>32</td>\n",
       "    </tr>\n",
       "    <tr>\n",
       "      <th>2025-02-06</th>\n",
       "      <td>30</td>\n",
       "    </tr>\n",
       "    <tr>\n",
       "      <th>2025-02-07</th>\n",
       "      <td>30</td>\n",
       "    </tr>\n",
       "    <tr>\n",
       "      <th>2025-02-08</th>\n",
       "      <td>22</td>\n",
       "    </tr>\n",
       "    <tr>\n",
       "      <th>2025-02-09</th>\n",
       "      <td>46</td>\n",
       "    </tr>\n",
       "  </tbody>\n",
       "</table>\n",
       "<p>2232 rows × 1 columns</p>\n",
       "</div>"
      ],
      "text/plain": [
       "            n_total\n",
       "date               \n",
       "2019-01-01       89\n",
       "2019-01-02       52\n",
       "2019-01-03       62\n",
       "2019-01-04       47\n",
       "2019-01-05       44\n",
       "...             ...\n",
       "2025-02-05       32\n",
       "2025-02-06       30\n",
       "2025-02-07       30\n",
       "2025-02-08       22\n",
       "2025-02-09       46\n",
       "\n",
       "[2232 rows x 1 columns]"
      ]
     },
     "execution_count": 8,
     "metadata": {},
     "output_type": "execute_result"
    }
   ],
   "source": [
    "df.set_index('date', inplace=True)\n",
    "df"
   ]
  },
  {
   "cell_type": "code",
   "execution_count": 9,
   "id": "88888bc3-60b8-4457-a668-696da73da06b",
   "metadata": {
    "tags": []
   },
   "outputs": [],
   "source": [
    "from sklearn.preprocessing import MinMaxScaler"
   ]
  },
  {
   "cell_type": "code",
   "execution_count": 10,
   "id": "c8cee607-9cc6-4c9d-966b-ad5ca14ddac5",
   "metadata": {
    "tags": []
   },
   "outputs": [],
   "source": [
    "scaler=MinMaxScaler()\n",
    "scaler.fit(df)\n",
    "df_scaled=scaler.transform(df)"
   ]
  },
  {
   "cell_type": "code",
   "execution_count": 11,
   "id": "8755b628-9dca-4483-a373-fa3b544e30d6",
   "metadata": {
    "tags": []
   },
   "outputs": [
    {
     "data": {
      "text/plain": [
       "array([[0.89690722],\n",
       "       [0.51546392],\n",
       "       [0.6185567 ],\n",
       "       ...,\n",
       "       [0.28865979],\n",
       "       [0.20618557],\n",
       "       [0.45360825]])"
      ]
     },
     "execution_count": 11,
     "metadata": {},
     "output_type": "execute_result"
    }
   ],
   "source": [
    "df_scaled"
   ]
  },
  {
   "cell_type": "code",
   "execution_count": 12,
   "id": "436384ca-f300-467e-879a-13755c2ce996",
   "metadata": {
    "tags": []
   },
   "outputs": [],
   "source": [
    "df['total_scaled']=df_scaled"
   ]
  },
  {
   "cell_type": "code",
   "execution_count": 13,
   "id": "f5a605b4-05e7-469f-86b5-a7d2754898c2",
   "metadata": {
    "tags": []
   },
   "outputs": [
    {
     "data": {
      "text/html": [
       "<div>\n",
       "<style scoped>\n",
       "    .dataframe tbody tr th:only-of-type {\n",
       "        vertical-align: middle;\n",
       "    }\n",
       "\n",
       "    .dataframe tbody tr th {\n",
       "        vertical-align: top;\n",
       "    }\n",
       "\n",
       "    .dataframe thead th {\n",
       "        text-align: right;\n",
       "    }\n",
       "</style>\n",
       "<table border=\"1\" class=\"dataframe\">\n",
       "  <thead>\n",
       "    <tr style=\"text-align: right;\">\n",
       "      <th></th>\n",
       "      <th>n_total</th>\n",
       "      <th>total_scaled</th>\n",
       "    </tr>\n",
       "    <tr>\n",
       "      <th>date</th>\n",
       "      <th></th>\n",
       "      <th></th>\n",
       "    </tr>\n",
       "  </thead>\n",
       "  <tbody>\n",
       "    <tr>\n",
       "      <th>2019-01-01</th>\n",
       "      <td>89</td>\n",
       "      <td>0.896907</td>\n",
       "    </tr>\n",
       "    <tr>\n",
       "      <th>2019-01-02</th>\n",
       "      <td>52</td>\n",
       "      <td>0.515464</td>\n",
       "    </tr>\n",
       "    <tr>\n",
       "      <th>2019-01-03</th>\n",
       "      <td>62</td>\n",
       "      <td>0.618557</td>\n",
       "    </tr>\n",
       "    <tr>\n",
       "      <th>2019-01-04</th>\n",
       "      <td>47</td>\n",
       "      <td>0.463918</td>\n",
       "    </tr>\n",
       "    <tr>\n",
       "      <th>2019-01-05</th>\n",
       "      <td>44</td>\n",
       "      <td>0.432990</td>\n",
       "    </tr>\n",
       "    <tr>\n",
       "      <th>...</th>\n",
       "      <td>...</td>\n",
       "      <td>...</td>\n",
       "    </tr>\n",
       "    <tr>\n",
       "      <th>2025-02-05</th>\n",
       "      <td>32</td>\n",
       "      <td>0.309278</td>\n",
       "    </tr>\n",
       "    <tr>\n",
       "      <th>2025-02-06</th>\n",
       "      <td>30</td>\n",
       "      <td>0.288660</td>\n",
       "    </tr>\n",
       "    <tr>\n",
       "      <th>2025-02-07</th>\n",
       "      <td>30</td>\n",
       "      <td>0.288660</td>\n",
       "    </tr>\n",
       "    <tr>\n",
       "      <th>2025-02-08</th>\n",
       "      <td>22</td>\n",
       "      <td>0.206186</td>\n",
       "    </tr>\n",
       "    <tr>\n",
       "      <th>2025-02-09</th>\n",
       "      <td>46</td>\n",
       "      <td>0.453608</td>\n",
       "    </tr>\n",
       "  </tbody>\n",
       "</table>\n",
       "<p>2232 rows × 2 columns</p>\n",
       "</div>"
      ],
      "text/plain": [
       "            n_total  total_scaled\n",
       "date                             \n",
       "2019-01-01       89      0.896907\n",
       "2019-01-02       52      0.515464\n",
       "2019-01-03       62      0.618557\n",
       "2019-01-04       47      0.463918\n",
       "2019-01-05       44      0.432990\n",
       "...             ...           ...\n",
       "2025-02-05       32      0.309278\n",
       "2025-02-06       30      0.288660\n",
       "2025-02-07       30      0.288660\n",
       "2025-02-08       22      0.206186\n",
       "2025-02-09       46      0.453608\n",
       "\n",
       "[2232 rows x 2 columns]"
      ]
     },
     "execution_count": 13,
     "metadata": {},
     "output_type": "execute_result"
    }
   ],
   "source": [
    "df"
   ]
  },
  {
   "cell_type": "code",
   "execution_count": 14,
   "id": "917b799e-3b52-4c65-9865-457faf8a3617",
   "metadata": {
    "tags": []
   },
   "outputs": [
    {
     "data": {
      "text/plain": [
       "<Axes: xlabel='date'>"
      ]
     },
     "execution_count": 14,
     "metadata": {},
     "output_type": "execute_result"
    },
    {
     "data": {
      "image/png": "[encoded data removed]",
      "text/plain": [
       "<Figure size 2000x500 with 1 Axes>"
      ]
     },
     "metadata": {},
     "output_type": "display_data"
    }
   ],
   "source": [
    "#temp=df['n_total']\n",
    "temp=df['total_scaled']\n",
    "df['n_total'].plot(figsize=(20,5))\n",
    "#temp"
   ]
  },
  {
   "cell_type": "code",
   "execution_count": null,
   "id": "58d0c8ac-46e1-44d7-95d9-703700c6f4eb",
   "metadata": {},
   "outputs": [],
   "source": []
  },
  {
   "cell_type": "code",
   "execution_count": null,
   "id": "11fbe31a-751a-46b2-8299-f965b5c870c2",
   "metadata": {},
   "outputs": [],
   "source": []
  },
  {
   "cell_type": "code",
   "execution_count": 15,
   "id": "783a1113-1905-406c-9912-61d42fe2d95f",
   "metadata": {
    "tags": []
   },
   "outputs": [
    {
     "data": {
      "text/plain": [
       "(2232, 1)"
      ]
     },
     "execution_count": 15,
     "metadata": {},
     "output_type": "execute_result"
    }
   ],
   "source": [
    "df_scaled.shape"
   ]
  },
  {
   "cell_type": "code",
   "execution_count": 16,
   "id": "d59c5676-b935-4707-9a08-693ba270ce45",
   "metadata": {
    "tags": []
   },
   "outputs": [],
   "source": [
    "#temp=df['n_cargo']\n",
    "#temp.plot(figsize=(20,5))\n",
    "#temp"
   ]
  },
  {
   "cell_type": "code",
   "execution_count": null,
   "id": "70c97a8c-cbd6-4b60-8729-07e457500946",
   "metadata": {},
   "outputs": [],
   "source": []
  },
  {
   "cell_type": "code",
   "execution_count": null,
   "id": "4406cb58-c238-4afd-9ba2-8430f11074be",
   "metadata": {},
   "outputs": [],
   "source": []
  },
  {
   "cell_type": "code",
   "execution_count": null,
   "id": "1b4efec6-7ed7-4c67-870b-f7055204db25",
   "metadata": {},
   "outputs": [],
   "source": []
  },
  {
   "cell_type": "code",
   "execution_count": 17,
   "id": "2ae407b9-524b-49de-acfd-ee73024e1222",
   "metadata": {
    "tags": []
   },
   "outputs": [
    {
     "data": {
      "text/plain": [
       "(10,)"
      ]
     },
     "execution_count": 17,
     "metadata": {},
     "output_type": "execute_result"
    }
   ],
   "source": [
    "temp[:10].to_numpy().shape"
   ]
  },
  {
   "cell_type": "code",
   "execution_count": 18,
   "id": "e1b1ecb5-9444-437c-8cb5-90542b2d7830",
   "metadata": {
    "tags": []
   },
   "outputs": [],
   "source": [
    "def df_x_y(df,steps=7):\n",
    "    df_np=df.to_numpy()\n",
    "    x=[]\n",
    "    y=[]\n",
    "    for i in range(len(df_np)-steps):\n",
    "        row=[[a] for a in df_np[i:i+steps]]\n",
    "        x.append(row)\n",
    "        label=df[i+steps]\n",
    "        y.append(label)\n",
    "    return np.array(x),np.array(y)"
   ]
  },
  {
   "cell_type": "code",
   "execution_count": 19,
   "id": "d768e44d-fdc4-44c2-b11c-31a25f65cb36",
   "metadata": {
    "tags": []
   },
   "outputs": [
    {
     "data": {
      "text/plain": [
       "((2222, 10, 1), (2222,))"
      ]
     },
     "execution_count": 19,
     "metadata": {},
     "output_type": "execute_result"
    }
   ],
   "source": [
    "steps=10 # we will take the first 10 days to predict the 11th day vessel traffic, and so on\n",
    "\n",
    "X,y=df_x_y(temp,steps)\n",
    "X.shape ,y.shape"
   ]
  },
  {
   "cell_type": "code",
   "execution_count": 20,
   "id": "b4111c72-f7e6-49f9-9c93-23b3fe0b52f8",
   "metadata": {
    "tags": []
   },
   "outputs": [],
   "source": [
    "# train, validation and test split\n",
    "# We will be training the model on 80% data, 10% for validation and last 10% for test\n",
    "train_size=int(len(df)*0.8) \n",
    "test_size=int(len(df)*0.9) \n",
    "X_train,y_train = X[:train_size],y[:train_size]\n",
    "X_val,y_val = X[train_size:test_size],y[train_size:test_size]\n",
    "X_test,y_test = X[test_size:],y[test_size:]"
   ]
  },
  {
   "cell_type": "code",
   "execution_count": 21,
   "id": "5f9855dd-4418-4cfb-adbb-3c65c509f9ca",
   "metadata": {
    "tags": []
   },
   "outputs": [
    {
     "data": {
      "text/plain": [
       "((1785, 10, 1), (1785,), (214, 10, 1), (214,), (223, 10, 1), (223,))"
      ]
     },
     "execution_count": 21,
     "metadata": {},
     "output_type": "execute_result"
    }
   ],
   "source": [
    "X_train.shape, y_train.shape, X_test.shape, y_test.shape, X_val.shape, y_val.shape"
   ]
  },
  {
   "cell_type": "code",
   "execution_count": 22,
   "id": "a2844f30-4b48-4ece-bf07-e696776f3d27",
   "metadata": {
    "tags": []
   },
   "outputs": [],
   "source": [
    "from tensorflow.keras.layers import *\n",
    "from tensorflow.keras.callbacks import ModelCheckpoint\n",
    "from tensorflow.keras.losses import MeanSquaredError\n",
    "from tensorflow.keras.metrics import RootMeanSquaredError\n",
    "from tensorflow.keras.optimizers import Adam"
   ]
  },
  {
   "cell_type": "code",
   "execution_count": 23,
   "id": "52912fcd-4180-4ad0-b4ab-c7eee50dc952",
   "metadata": {
    "tags": []
   },
   "outputs": [
    {
     "name": "stdout",
     "output_type": "stream",
     "text": [
      "Model: \"sequential\"\n",
      "_________________________________________________________________\n",
      " Layer (type)                Output Shape              Param #   \n",
      "=================================================================\n",
      " lstm (LSTM)                 (None, 100)               40800     \n",
      "                                                                 \n",
      " dense (Dense)               (None, 8)                 808       \n",
      "                                                                 \n",
      " dense_1 (Dense)             (None, 1)                 9         \n",
      "                                                                 \n",
      "=================================================================\n",
      "Total params: 41,617\n",
      "Trainable params: 41,617\n",
      "Non-trainable params: 0\n",
      "_________________________________________________________________\n"
     ]
    }
   ],
   "source": [
    "model=Sequential()\n",
    "model.add(InputLayer((10,1)))\n",
    "model.add(LSTM(100))#, return_sequences=True))\n",
    "#model.add(Bidirectional(LSTM(50)))\n",
    "#model.add(LSTM(50))\n",
    "model.add(Dense(8,'relu'))\n",
    "model.add(Dense(1,'linear'))\n",
    "model.summary()"
   ]
  },
  {
   "cell_type": "code",
   "execution_count": 24,
   "id": "3f2f59ca-0593-44d9-8b69-36319c5af552",
   "metadata": {
    "tags": []
   },
   "outputs": [],
   "source": [
    "ck_pt=ModelCheckpoint('model/',save_best_only=True) #Obtaining the model at the least loss accurate predictions\n",
    "model.compile(loss=MeanSquaredError(),optimizer=Adam(learning_rate=0.0001),metrics=[RootMeanSquaredError()])"
   ]
  },
  {
   "cell_type": "code",
   "execution_count": 25,
   "id": "a2f498e4-c197-4027-966f-3a4ab5ab626c",
   "metadata": {
    "tags": []
   },
   "outputs": [
    {
     "name": "stdout",
     "output_type": "stream",
     "text": [
      "Epoch 1/100\n",
      "52/56 [==========================>...] - ETA: 0s - loss: 0.3157 - root_mean_squared_error: 0.5619"
     ]
    },
    {
     "name": "stderr",
     "output_type": "stream",
     "text": [
      "WARNING:absl:Found untraced functions such as _update_step_xla, lstm_cell_layer_call_fn, lstm_cell_layer_call_and_return_conditional_losses while saving (showing 3 of 3). These functions will not be directly callable after loading.\n"
     ]
    },
    {
     "name": "stdout",
     "output_type": "stream",
     "text": [
      "INFO:tensorflow:Assets written to: model\\assets\n"
     ]
    },
    {
     "name": "stderr",
     "output_type": "stream",
     "text": [
      "INFO:tensorflow:Assets written to: model\\assets\n"
     ]
    },
    {
     "name": "stdout",
     "output_type": "stream",
     "text": [
      "56/56 [==============================] - 6s 84ms/step - loss: 0.3065 - root_mean_squared_error: 0.5536 - val_loss: 0.0912 - val_root_mean_squared_error: 0.3020\n",
      "Epoch 2/100\n",
      "50/56 [=========================>....] - ETA: 0s - loss: 0.0883 - root_mean_squared_error: 0.2972"
     ]
    },
    {
     "name": "stderr",
     "output_type": "stream",
     "text": [
      "WARNING:absl:Found untraced functions such as _update_step_xla, lstm_cell_layer_call_fn, lstm_cell_layer_call_and_return_conditional_losses while saving (showing 3 of 3). These functions will not be directly callable after loading.\n"
     ]
    },
    {
     "name": "stdout",
     "output_type": "stream",
     "text": [
      "INFO:tensorflow:Assets written to: model\\assets\n"
     ]
    },
    {
     "name": "stderr",
     "output_type": "stream",
     "text": [
      "INFO:tensorflow:Assets written to: model\\assets\n"
     ]
    },
    {
     "name": "stdout",
     "output_type": "stream",
     "text": [
      "56/56 [==============================] - 4s 78ms/step - loss: 0.0815 - root_mean_squared_error: 0.2856 - val_loss: 0.0063 - val_root_mean_squared_error: 0.0793\n",
      "Epoch 3/100\n",
      "48/56 [========================>.....] - ETA: 0s - loss: 0.0091 - root_mean_squared_error: 0.0955"
     ]
    },
    {
     "name": "stderr",
     "output_type": "stream",
     "text": [
      "WARNING:absl:Found untraced functions such as _update_step_xla, lstm_cell_layer_call_fn, lstm_cell_layer_call_and_return_conditional_losses while saving (showing 3 of 3). These functions will not be directly callable after loading.\n"
     ]
    },
    {
     "name": "stdout",
     "output_type": "stream",
     "text": [
      "INFO:tensorflow:Assets written to: model\\assets\n"
     ]
    },
    {
     "name": "stderr",
     "output_type": "stream",
     "text": [
      "INFO:tensorflow:Assets written to: model\\assets\n"
     ]
    },
    {
     "name": "stdout",
     "output_type": "stream",
     "text": [
      "56/56 [==============================] - 4s 75ms/step - loss: 0.0091 - root_mean_squared_error: 0.0953 - val_loss: 0.0054 - val_root_mean_squared_error: 0.0737\n",
      "Epoch 4/100\n",
      "56/56 [==============================] - 0s 4ms/step - loss: 0.0082 - root_mean_squared_error: 0.0905 - val_loss: 0.0056 - val_root_mean_squared_error: 0.0749\n",
      "Epoch 5/100\n",
      "56/56 [==============================] - 0s 5ms/step - loss: 0.0082 - root_mean_squared_error: 0.0904 - val_loss: 0.0064 - val_root_mean_squared_error: 0.0799\n",
      "Epoch 6/100\n",
      "56/56 [==============================] - 0s 4ms/step - loss: 0.0082 - root_mean_squared_error: 0.0906 - val_loss: 0.0058 - val_root_mean_squared_error: 0.0762\n",
      "Epoch 7/100\n",
      "56/56 [==============================] - 0s 4ms/step - loss: 0.0082 - root_mean_squared_error: 0.0908 - val_loss: 0.0058 - val_root_mean_squared_error: 0.0762\n",
      "Epoch 8/100\n",
      "56/56 [==============================] - 0s 4ms/step - loss: 0.0082 - root_mean_squared_error: 0.0903 - val_loss: 0.0057 - val_root_mean_squared_error: 0.0756\n",
      "Epoch 9/100\n",
      "56/56 [==============================] - 0s 5ms/step - loss: 0.0082 - root_mean_squared_error: 0.0904 - val_loss: 0.0055 - val_root_mean_squared_error: 0.0744\n",
      "Epoch 10/100\n",
      "56/56 [==============================] - 0s 4ms/step - loss: 0.0081 - root_mean_squared_error: 0.0902 - val_loss: 0.0056 - val_root_mean_squared_error: 0.0748\n",
      "Epoch 11/100\n",
      "56/56 [==============================] - 0s 4ms/step - loss: 0.0081 - root_mean_squared_error: 0.0901 - val_loss: 0.0056 - val_root_mean_squared_error: 0.0745\n",
      "Epoch 12/100\n",
      "56/56 [==============================] - 0s 4ms/step - loss: 0.0081 - root_mean_squared_error: 0.0902 - val_loss: 0.0055 - val_root_mean_squared_error: 0.0742\n",
      "Epoch 13/100\n",
      "56/56 [==============================] - 0s 4ms/step - loss: 0.0081 - root_mean_squared_error: 0.0901 - val_loss: 0.0054 - val_root_mean_squared_error: 0.0737\n",
      "Epoch 14/100\n",
      "56/56 [==============================] - 0s 4ms/step - loss: 0.0082 - root_mean_squared_error: 0.0903 - val_loss: 0.0057 - val_root_mean_squared_error: 0.0758\n",
      "Epoch 15/100\n",
      "44/56 [======================>.......] - ETA: 0s - loss: 0.0076 - root_mean_squared_error: 0.0875"
     ]
    },
    {
     "name": "stderr",
     "output_type": "stream",
     "text": [
      "WARNING:absl:Found untraced functions such as _update_step_xla, lstm_cell_layer_call_fn, lstm_cell_layer_call_and_return_conditional_losses while saving (showing 3 of 3). These functions will not be directly callable after loading.\n"
     ]
    },
    {
     "name": "stdout",
     "output_type": "stream",
     "text": [
      "INFO:tensorflow:Assets written to: model\\assets\n"
     ]
    },
    {
     "name": "stderr",
     "output_type": "stream",
     "text": [
      "INFO:tensorflow:Assets written to: model\\assets\n"
     ]
    },
    {
     "name": "stdout",
     "output_type": "stream",
     "text": [
      "56/56 [==============================] - 4s 78ms/step - loss: 0.0082 - root_mean_squared_error: 0.0903 - val_loss: 0.0054 - val_root_mean_squared_error: 0.0732\n",
      "Epoch 16/100\n",
      "56/56 [==============================] - 0s 4ms/step - loss: 0.0081 - root_mean_squared_error: 0.0900 - val_loss: 0.0055 - val_root_mean_squared_error: 0.0743\n",
      "Epoch 17/100\n",
      "54/56 [===========================>..] - ETA: 0s - loss: 0.0082 - root_mean_squared_error: 0.0908"
     ]
    },
    {
     "name": "stderr",
     "output_type": "stream",
     "text": [
      "WARNING:absl:Found untraced functions such as _update_step_xla, lstm_cell_layer_call_fn, lstm_cell_layer_call_and_return_conditional_losses while saving (showing 3 of 3). These functions will not be directly callable after loading.\n"
     ]
    },
    {
     "name": "stdout",
     "output_type": "stream",
     "text": [
      "INFO:tensorflow:Assets written to: model\\assets\n"
     ]
    },
    {
     "name": "stderr",
     "output_type": "stream",
     "text": [
      "INFO:tensorflow:Assets written to: model\\assets\n"
     ]
    },
    {
     "name": "stdout",
     "output_type": "stream",
     "text": [
      "56/56 [==============================] - 4s 78ms/step - loss: 0.0081 - root_mean_squared_error: 0.0901 - val_loss: 0.0053 - val_root_mean_squared_error: 0.0727\n",
      "Epoch 18/100\n",
      "56/56 [==============================] - 0s 4ms/step - loss: 0.0081 - root_mean_squared_error: 0.0900 - val_loss: 0.0058 - val_root_mean_squared_error: 0.0759\n",
      "Epoch 19/100\n",
      "56/56 [==============================] - 0s 4ms/step - loss: 0.0081 - root_mean_squared_error: 0.0901 - val_loss: 0.0056 - val_root_mean_squared_error: 0.0747\n",
      "Epoch 20/100\n",
      "56/56 [==============================] - 0s 4ms/step - loss: 0.0081 - root_mean_squared_error: 0.0900 - val_loss: 0.0059 - val_root_mean_squared_error: 0.0770\n",
      "Epoch 21/100\n",
      "56/56 [==============================] - 0s 4ms/step - loss: 0.0082 - root_mean_squared_error: 0.0908 - val_loss: 0.0058 - val_root_mean_squared_error: 0.0763\n",
      "Epoch 22/100\n",
      "46/56 [=======================>......] - ETA: 0s - loss: 0.0082 - root_mean_squared_error: 0.0908"
     ]
    },
    {
     "name": "stderr",
     "output_type": "stream",
     "text": [
      "WARNING:absl:Found untraced functions such as _update_step_xla, lstm_cell_layer_call_fn, lstm_cell_layer_call_and_return_conditional_losses while saving (showing 3 of 3). These functions will not be directly callable after loading.\n"
     ]
    },
    {
     "name": "stdout",
     "output_type": "stream",
     "text": [
      "INFO:tensorflow:Assets written to: model\\assets\n"
     ]
    },
    {
     "name": "stderr",
     "output_type": "stream",
     "text": [
      "INFO:tensorflow:Assets written to: model\\assets\n"
     ]
    },
    {
     "name": "stdout",
     "output_type": "stream",
     "text": [
      "56/56 [==============================] - 4s 76ms/step - loss: 0.0081 - root_mean_squared_error: 0.0900 - val_loss: 0.0051 - val_root_mean_squared_error: 0.0715\n",
      "Epoch 23/100\n",
      "56/56 [==============================] - 0s 4ms/step - loss: 0.0081 - root_mean_squared_error: 0.0900 - val_loss: 0.0053 - val_root_mean_squared_error: 0.0726\n",
      "Epoch 24/100\n",
      "56/56 [==============================] - 0s 5ms/step - loss: 0.0081 - root_mean_squared_error: 0.0899 - val_loss: 0.0052 - val_root_mean_squared_error: 0.0719\n",
      "Epoch 25/100\n",
      "56/56 [==============================] - 0s 5ms/step - loss: 0.0081 - root_mean_squared_error: 0.0901 - val_loss: 0.0054 - val_root_mean_squared_error: 0.0733\n",
      "Epoch 26/100\n",
      "56/56 [==============================] - 0s 5ms/step - loss: 0.0081 - root_mean_squared_error: 0.0898 - val_loss: 0.0052 - val_root_mean_squared_error: 0.0723\n",
      "Epoch 27/100\n",
      "56/56 [==============================] - 0s 5ms/step - loss: 0.0081 - root_mean_squared_error: 0.0899 - val_loss: 0.0055 - val_root_mean_squared_error: 0.0743\n",
      "Epoch 28/100\n",
      "56/56 [==============================] - 0s 5ms/step - loss: 0.0081 - root_mean_squared_error: 0.0902 - val_loss: 0.0054 - val_root_mean_squared_error: 0.0735\n",
      "Epoch 29/100\n",
      "56/56 [==============================] - 0s 5ms/step - loss: 0.0081 - root_mean_squared_error: 0.0898 - val_loss: 0.0052 - val_root_mean_squared_error: 0.0722\n",
      "Epoch 30/100\n",
      "56/56 [==============================] - 0s 5ms/step - loss: 0.0081 - root_mean_squared_error: 0.0899 - val_loss: 0.0054 - val_root_mean_squared_error: 0.0738\n",
      "Epoch 31/100\n",
      "56/56 [==============================] - 0s 5ms/step - loss: 0.0081 - root_mean_squared_error: 0.0899 - val_loss: 0.0057 - val_root_mean_squared_error: 0.0753\n",
      "Epoch 32/100\n",
      "56/56 [==============================] - 0s 5ms/step - loss: 0.0081 - root_mean_squared_error: 0.0898 - val_loss: 0.0052 - val_root_mean_squared_error: 0.0720\n",
      "Epoch 33/100\n",
      "56/56 [==============================] - 0s 5ms/step - loss: 0.0081 - root_mean_squared_error: 0.0898 - val_loss: 0.0055 - val_root_mean_squared_error: 0.0743\n",
      "Epoch 34/100\n",
      "56/56 [==============================] - 0s 5ms/step - loss: 0.0081 - root_mean_squared_error: 0.0898 - val_loss: 0.0054 - val_root_mean_squared_error: 0.0734\n",
      "Epoch 35/100\n",
      "56/56 [==============================] - 0s 4ms/step - loss: 0.0081 - root_mean_squared_error: 0.0899 - val_loss: 0.0056 - val_root_mean_squared_error: 0.0751\n",
      "Epoch 36/100\n",
      "56/56 [==============================] - 0s 4ms/step - loss: 0.0080 - root_mean_squared_error: 0.0896 - val_loss: 0.0055 - val_root_mean_squared_error: 0.0742\n",
      "Epoch 37/100\n",
      "46/56 [=======================>......] - ETA: 0s - loss: 0.0080 - root_mean_squared_error: 0.0894"
     ]
    },
    {
     "name": "stderr",
     "output_type": "stream",
     "text": [
      "WARNING:absl:Found untraced functions such as _update_step_xla, lstm_cell_layer_call_fn, lstm_cell_layer_call_and_return_conditional_losses while saving (showing 3 of 3). These functions will not be directly callable after loading.\n"
     ]
    },
    {
     "name": "stdout",
     "output_type": "stream",
     "text": [
      "INFO:tensorflow:Assets written to: model\\assets\n"
     ]
    },
    {
     "name": "stderr",
     "output_type": "stream",
     "text": [
      "INFO:tensorflow:Assets written to: model\\assets\n"
     ]
    },
    {
     "name": "stdout",
     "output_type": "stream",
     "text": [
      "56/56 [==============================] - 4s 79ms/step - loss: 0.0080 - root_mean_squared_error: 0.0897 - val_loss: 0.0051 - val_root_mean_squared_error: 0.0712\n",
      "Epoch 38/100\n",
      "56/56 [==============================] - 0s 4ms/step - loss: 0.0081 - root_mean_squared_error: 0.0900 - val_loss: 0.0056 - val_root_mean_squared_error: 0.0749\n",
      "Epoch 39/100\n",
      "56/56 [==============================] - 0s 4ms/step - loss: 0.0081 - root_mean_squared_error: 0.0898 - val_loss: 0.0058 - val_root_mean_squared_error: 0.0765\n",
      "Epoch 40/100\n",
      "56/56 [==============================] - 0s 5ms/step - loss: 0.0082 - root_mean_squared_error: 0.0905 - val_loss: 0.0052 - val_root_mean_squared_error: 0.0723\n",
      "Epoch 41/100\n",
      "56/56 [==============================] - 0s 4ms/step - loss: 0.0081 - root_mean_squared_error: 0.0899 - val_loss: 0.0058 - val_root_mean_squared_error: 0.0760\n",
      "Epoch 42/100\n",
      "56/56 [==============================] - 0s 4ms/step - loss: 0.0081 - root_mean_squared_error: 0.0898 - val_loss: 0.0057 - val_root_mean_squared_error: 0.0754\n",
      "Epoch 43/100\n",
      "56/56 [==============================] - 0s 4ms/step - loss: 0.0080 - root_mean_squared_error: 0.0897 - val_loss: 0.0057 - val_root_mean_squared_error: 0.0754\n",
      "Epoch 44/100\n",
      "56/56 [==============================] - 0s 4ms/step - loss: 0.0081 - root_mean_squared_error: 0.0898 - val_loss: 0.0053 - val_root_mean_squared_error: 0.0727\n",
      "Epoch 45/100\n",
      "56/56 [==============================] - 0s 4ms/step - loss: 0.0081 - root_mean_squared_error: 0.0900 - val_loss: 0.0059 - val_root_mean_squared_error: 0.0771\n",
      "Epoch 46/100\n",
      "44/56 [======================>.......] - ETA: 0s - loss: 0.0080 - root_mean_squared_error: 0.0897"
     ]
    },
    {
     "name": "stderr",
     "output_type": "stream",
     "text": [
      "WARNING:absl:Found untraced functions such as _update_step_xla, lstm_cell_layer_call_fn, lstm_cell_layer_call_and_return_conditional_losses while saving (showing 3 of 3). These functions will not be directly callable after loading.\n"
     ]
    },
    {
     "name": "stdout",
     "output_type": "stream",
     "text": [
      "INFO:tensorflow:Assets written to: model\\assets\n"
     ]
    },
    {
     "name": "stderr",
     "output_type": "stream",
     "text": [
      "INFO:tensorflow:Assets written to: model\\assets\n"
     ]
    },
    {
     "name": "stdout",
     "output_type": "stream",
     "text": [
      "56/56 [==============================] - 4s 78ms/step - loss: 0.0080 - root_mean_squared_error: 0.0897 - val_loss: 0.0050 - val_root_mean_squared_error: 0.0709\n",
      "Epoch 47/100\n",
      "56/56 [==============================] - 0s 5ms/step - loss: 0.0081 - root_mean_squared_error: 0.0899 - val_loss: 0.0055 - val_root_mean_squared_error: 0.0741\n",
      "Epoch 48/100\n",
      "56/56 [==============================] - 0s 5ms/step - loss: 0.0080 - root_mean_squared_error: 0.0896 - val_loss: 0.0056 - val_root_mean_squared_error: 0.0748\n",
      "Epoch 49/100\n",
      "56/56 [==============================] - 0s 5ms/step - loss: 0.0081 - root_mean_squared_error: 0.0899 - val_loss: 0.0057 - val_root_mean_squared_error: 0.0752\n",
      "Epoch 50/100\n",
      "56/56 [==============================] - 0s 5ms/step - loss: 0.0081 - root_mean_squared_error: 0.0899 - val_loss: 0.0051 - val_root_mean_squared_error: 0.0716\n",
      "Epoch 51/100\n",
      "56/56 [==============================] - 0s 5ms/step - loss: 0.0081 - root_mean_squared_error: 0.0900 - val_loss: 0.0051 - val_root_mean_squared_error: 0.0714\n",
      "Epoch 52/100\n",
      "56/56 [==============================] - 0s 5ms/step - loss: 0.0081 - root_mean_squared_error: 0.0901 - val_loss: 0.0052 - val_root_mean_squared_error: 0.0724\n",
      "Epoch 53/100\n",
      "56/56 [==============================] - 0s 5ms/step - loss: 0.0080 - root_mean_squared_error: 0.0897 - val_loss: 0.0063 - val_root_mean_squared_error: 0.0796\n",
      "Epoch 54/100\n",
      "56/56 [==============================] - 0s 5ms/step - loss: 0.0081 - root_mean_squared_error: 0.0899 - val_loss: 0.0054 - val_root_mean_squared_error: 0.0737\n",
      "Epoch 55/100\n",
      "56/56 [==============================] - 0s 5ms/step - loss: 0.0081 - root_mean_squared_error: 0.0897 - val_loss: 0.0056 - val_root_mean_squared_error: 0.0745\n",
      "Epoch 56/100\n",
      "56/56 [==============================] - 0s 5ms/step - loss: 0.0080 - root_mean_squared_error: 0.0897 - val_loss: 0.0059 - val_root_mean_squared_error: 0.0770\n",
      "Epoch 57/100\n",
      "56/56 [==============================] - 0s 4ms/step - loss: 0.0080 - root_mean_squared_error: 0.0896 - val_loss: 0.0056 - val_root_mean_squared_error: 0.0746\n",
      "Epoch 58/100\n",
      "42/56 [=====================>........] - ETA: 0s - loss: 0.0079 - root_mean_squared_error: 0.0890"
     ]
    },
    {
     "name": "stderr",
     "output_type": "stream",
     "text": [
      "WARNING:absl:Found untraced functions such as _update_step_xla, lstm_cell_layer_call_fn, lstm_cell_layer_call_and_return_conditional_losses while saving (showing 3 of 3). These functions will not be directly callable after loading.\n"
     ]
    },
    {
     "name": "stdout",
     "output_type": "stream",
     "text": [
      "INFO:tensorflow:Assets written to: model\\assets\n"
     ]
    },
    {
     "name": "stderr",
     "output_type": "stream",
     "text": [
      "INFO:tensorflow:Assets written to: model\\assets\n"
     ]
    },
    {
     "name": "stdout",
     "output_type": "stream",
     "text": [
      "56/56 [==============================] - 4s 80ms/step - loss: 0.0080 - root_mean_squared_error: 0.0897 - val_loss: 0.0050 - val_root_mean_squared_error: 0.0705\n",
      "Epoch 59/100\n",
      "56/56 [==============================] - 0s 5ms/step - loss: 0.0081 - root_mean_squared_error: 0.0899 - val_loss: 0.0052 - val_root_mean_squared_error: 0.0718\n",
      "Epoch 60/100\n",
      "56/56 [==============================] - 0s 5ms/step - loss: 0.0080 - root_mean_squared_error: 0.0896 - val_loss: 0.0054 - val_root_mean_squared_error: 0.0734\n",
      "Epoch 61/100\n",
      "56/56 [==============================] - 0s 5ms/step - loss: 0.0080 - root_mean_squared_error: 0.0896 - val_loss: 0.0057 - val_root_mean_squared_error: 0.0754\n",
      "Epoch 62/100\n",
      "56/56 [==============================] - 0s 5ms/step - loss: 0.0081 - root_mean_squared_error: 0.0900 - val_loss: 0.0051 - val_root_mean_squared_error: 0.0716\n",
      "Epoch 63/100\n",
      "56/56 [==============================] - 0s 5ms/step - loss: 0.0080 - root_mean_squared_error: 0.0896 - val_loss: 0.0051 - val_root_mean_squared_error: 0.0717\n",
      "Epoch 64/100\n",
      "56/56 [==============================] - 0s 5ms/step - loss: 0.0080 - root_mean_squared_error: 0.0897 - val_loss: 0.0061 - val_root_mean_squared_error: 0.0784\n",
      "Epoch 65/100\n",
      "56/56 [==============================] - 0s 5ms/step - loss: 0.0081 - root_mean_squared_error: 0.0901 - val_loss: 0.0061 - val_root_mean_squared_error: 0.0778\n",
      "Epoch 66/100\n",
      "56/56 [==============================] - 0s 6ms/step - loss: 0.0081 - root_mean_squared_error: 0.0899 - val_loss: 0.0055 - val_root_mean_squared_error: 0.0741\n",
      "Epoch 67/100\n",
      "56/56 [==============================] - 0s 5ms/step - loss: 0.0081 - root_mean_squared_error: 0.0898 - val_loss: 0.0056 - val_root_mean_squared_error: 0.0751\n",
      "Epoch 68/100\n",
      "56/56 [==============================] - 0s 5ms/step - loss: 0.0080 - root_mean_squared_error: 0.0893 - val_loss: 0.0057 - val_root_mean_squared_error: 0.0757\n",
      "Epoch 69/100\n",
      "56/56 [==============================] - 0s 5ms/step - loss: 0.0080 - root_mean_squared_error: 0.0896 - val_loss: 0.0058 - val_root_mean_squared_error: 0.0760\n",
      "Epoch 70/100\n",
      "56/56 [==============================] - 0s 5ms/step - loss: 0.0080 - root_mean_squared_error: 0.0895 - val_loss: 0.0059 - val_root_mean_squared_error: 0.0770\n",
      "Epoch 71/100\n",
      "47/56 [========================>.....] - ETA: 0s - loss: 0.0082 - root_mean_squared_error: 0.0903"
     ]
    },
    {
     "name": "stderr",
     "output_type": "stream",
     "text": [
      "WARNING:absl:Found untraced functions such as _update_step_xla, lstm_cell_layer_call_fn, lstm_cell_layer_call_and_return_conditional_losses while saving (showing 3 of 3). These functions will not be directly callable after loading.\n"
     ]
    },
    {
     "name": "stdout",
     "output_type": "stream",
     "text": [
      "INFO:tensorflow:Assets written to: model\\assets\n"
     ]
    },
    {
     "name": "stderr",
     "output_type": "stream",
     "text": [
      "INFO:tensorflow:Assets written to: model\\assets\n"
     ]
    },
    {
     "name": "stdout",
     "output_type": "stream",
     "text": [
      "56/56 [==============================] - 4s 81ms/step - loss: 0.0080 - root_mean_squared_error: 0.0897 - val_loss: 0.0050 - val_root_mean_squared_error: 0.0704\n",
      "Epoch 72/100\n",
      "56/56 [==============================] - 0s 5ms/step - loss: 0.0081 - root_mean_squared_error: 0.0901 - val_loss: 0.0052 - val_root_mean_squared_error: 0.0720\n",
      "Epoch 73/100\n",
      "56/56 [==============================] - 0s 5ms/step - loss: 0.0080 - root_mean_squared_error: 0.0895 - val_loss: 0.0052 - val_root_mean_squared_error: 0.0719\n",
      "Epoch 74/100\n",
      "56/56 [==============================] - 0s 5ms/step - loss: 0.0080 - root_mean_squared_error: 0.0897 - val_loss: 0.0051 - val_root_mean_squared_error: 0.0714\n",
      "Epoch 75/100\n",
      "56/56 [==============================] - 0s 5ms/step - loss: 0.0082 - root_mean_squared_error: 0.0905 - val_loss: 0.0060 - val_root_mean_squared_error: 0.0771\n",
      "Epoch 76/100\n",
      "56/56 [==============================] - 0s 5ms/step - loss: 0.0081 - root_mean_squared_error: 0.0900 - val_loss: 0.0050 - val_root_mean_squared_error: 0.0707\n",
      "Epoch 77/100\n",
      "56/56 [==============================] - 0s 5ms/step - loss: 0.0081 - root_mean_squared_error: 0.0899 - val_loss: 0.0054 - val_root_mean_squared_error: 0.0732\n",
      "Epoch 78/100\n",
      "56/56 [==============================] - 0s 5ms/step - loss: 0.0080 - root_mean_squared_error: 0.0894 - val_loss: 0.0053 - val_root_mean_squared_error: 0.0727\n",
      "Epoch 79/100\n",
      "56/56 [==============================] - 0s 5ms/step - loss: 0.0080 - root_mean_squared_error: 0.0896 - val_loss: 0.0055 - val_root_mean_squared_error: 0.0743\n",
      "Epoch 80/100\n",
      "56/56 [==============================] - 0s 5ms/step - loss: 0.0080 - root_mean_squared_error: 0.0893 - val_loss: 0.0052 - val_root_mean_squared_error: 0.0724\n",
      "Epoch 81/100\n",
      "56/56 [==============================] - 0s 5ms/step - loss: 0.0081 - root_mean_squared_error: 0.0898 - val_loss: 0.0051 - val_root_mean_squared_error: 0.0714\n",
      "Epoch 82/100\n",
      "56/56 [==============================] - 0s 5ms/step - loss: 0.0081 - root_mean_squared_error: 0.0899 - val_loss: 0.0053 - val_root_mean_squared_error: 0.0730\n",
      "Epoch 83/100\n",
      "56/56 [==============================] - 0s 5ms/step - loss: 0.0080 - root_mean_squared_error: 0.0894 - val_loss: 0.0057 - val_root_mean_squared_error: 0.0752\n",
      "Epoch 84/100\n",
      "56/56 [==============================] - 0s 5ms/step - loss: 0.0080 - root_mean_squared_error: 0.0894 - val_loss: 0.0056 - val_root_mean_squared_error: 0.0749\n",
      "Epoch 85/100\n",
      "56/56 [==============================] - 0s 5ms/step - loss: 0.0080 - root_mean_squared_error: 0.0894 - val_loss: 0.0058 - val_root_mean_squared_error: 0.0759\n",
      "Epoch 86/100\n",
      "56/56 [==============================] - 0s 5ms/step - loss: 0.0081 - root_mean_squared_error: 0.0898 - val_loss: 0.0053 - val_root_mean_squared_error: 0.0731\n",
      "Epoch 87/100\n",
      "56/56 [==============================] - 0s 5ms/step - loss: 0.0080 - root_mean_squared_error: 0.0893 - val_loss: 0.0053 - val_root_mean_squared_error: 0.0727\n",
      "Epoch 88/100\n",
      "56/56 [==============================] - 0s 5ms/step - loss: 0.0080 - root_mean_squared_error: 0.0894 - val_loss: 0.0060 - val_root_mean_squared_error: 0.0772\n",
      "Epoch 89/100\n",
      "56/56 [==============================] - 0s 5ms/step - loss: 0.0080 - root_mean_squared_error: 0.0896 - val_loss: 0.0055 - val_root_mean_squared_error: 0.0741\n",
      "Epoch 90/100\n",
      "56/56 [==============================] - 0s 5ms/step - loss: 0.0080 - root_mean_squared_error: 0.0895 - val_loss: 0.0061 - val_root_mean_squared_error: 0.0778\n",
      "Epoch 91/100\n",
      "56/56 [==============================] - 0s 5ms/step - loss: 0.0080 - root_mean_squared_error: 0.0895 - val_loss: 0.0061 - val_root_mean_squared_error: 0.0781\n",
      "Epoch 92/100\n",
      "56/56 [==============================] - 0s 5ms/step - loss: 0.0080 - root_mean_squared_error: 0.0894 - val_loss: 0.0057 - val_root_mean_squared_error: 0.0754\n",
      "Epoch 93/100\n",
      "56/56 [==============================] - 0s 5ms/step - loss: 0.0080 - root_mean_squared_error: 0.0895 - val_loss: 0.0054 - val_root_mean_squared_error: 0.0735\n",
      "Epoch 94/100\n",
      "56/56 [==============================] - 0s 5ms/step - loss: 0.0081 - root_mean_squared_error: 0.0899 - val_loss: 0.0051 - val_root_mean_squared_error: 0.0714\n",
      "Epoch 95/100\n",
      "56/56 [==============================] - 0s 5ms/step - loss: 0.0080 - root_mean_squared_error: 0.0894 - val_loss: 0.0058 - val_root_mean_squared_error: 0.0762\n",
      "Epoch 96/100\n",
      "56/56 [==============================] - 0s 6ms/step - loss: 0.0080 - root_mean_squared_error: 0.0895 - val_loss: 0.0057 - val_root_mean_squared_error: 0.0753\n",
      "Epoch 97/100\n",
      "56/56 [==============================] - 0s 5ms/step - loss: 0.0080 - root_mean_squared_error: 0.0893 - val_loss: 0.0055 - val_root_mean_squared_error: 0.0743\n",
      "Epoch 98/100\n",
      "56/56 [==============================] - 0s 5ms/step - loss: 0.0080 - root_mean_squared_error: 0.0893 - val_loss: 0.0050 - val_root_mean_squared_error: 0.0707\n",
      "Epoch 99/100\n",
      "56/56 [==============================] - 0s 5ms/step - loss: 0.0080 - root_mean_squared_error: 0.0895 - val_loss: 0.0059 - val_root_mean_squared_error: 0.0770\n",
      "Epoch 100/100\n",
      "56/56 [==============================] - 0s 5ms/step - loss: 0.0080 - root_mean_squared_error: 0.0893 - val_loss: 0.0056 - val_root_mean_squared_error: 0.0749\n"
     ]
    },
    {
     "data": {
      "text/plain": [
       "<keras.callbacks.History at 0x19cf346f3d0>"
      ]
     },
     "execution_count": 25,
     "metadata": {},
     "output_type": "execute_result"
    }
   ],
   "source": [
    "model.fit(X_train, y_train, validation_data=(X_val, y_val), epochs=100,callbacks=[ck_pt])"
   ]
  },
  {
   "cell_type": "code",
   "execution_count": 26,
   "id": "45aa81d1-9308-471c-ae88-2b8f8dc9e1ac",
   "metadata": {
    "tags": []
   },
   "outputs": [
    {
     "data": {
      "text/plain": [
       "[<matplotlib.lines.Line2D at 0x19d05214710>]"
      ]
     },
     "execution_count": 26,
     "metadata": {},
     "output_type": "execute_result"
    },
    {
     "data": {
      "image/png": "[encoded data removed]",
      "text/plain": [
       "<Figure size 640x480 with 1 Axes>"
      ]
     },
     "metadata": {},
     "output_type": "display_data"
    }
   ],
   "source": [
    "loss_per_epoch=model.history.history['loss']\n",
    "plt.plot(range(len(loss_per_epoch)),loss_per_epoch)"
   ]
  },
  {
   "cell_type": "code",
   "execution_count": 27,
   "id": "ce2e0010-b783-4c26-ab66-c455729778c4",
   "metadata": {
    "tags": []
   },
   "outputs": [],
   "source": [
    "from sklearn.metrics import mean_absolute_error, mean_squared_error, r2_score, f1_score, accuracy_score, mean_absolute_percentage_error"
   ]
  },
  {
   "cell_type": "code",
   "execution_count": 28,
   "id": "f29da770-e807-4dde-b3c8-6339d7bfcb17",
   "metadata": {},
   "outputs": [],
   "source": [
    "from tensorflow.keras.models import load_model\n",
    "model = load_model('model/')"
   ]
  },
  {
   "cell_type": "code",
   "execution_count": 29,
   "id": "b7105703-8cff-4818-92d3-e136a7950032",
   "metadata": {
    "tags": []
   },
   "outputs": [
    {
     "name": "stdout",
     "output_type": "stream",
     "text": [
      "56/56 [==============================] - 0s 1ms/step\n"
     ]
    },
    {
     "data": {
      "text/html": [
       "<div>\n",
       "<style scoped>\n",
       "    .dataframe tbody tr th:only-of-type {\n",
       "        vertical-align: middle;\n",
       "    }\n",
       "\n",
       "    .dataframe tbody tr th {\n",
       "        vertical-align: top;\n",
       "    }\n",
       "\n",
       "    .dataframe thead th {\n",
       "        text-align: right;\n",
       "    }\n",
       "</style>\n",
       "<table border=\"1\" class=\"dataframe\">\n",
       "  <thead>\n",
       "    <tr style=\"text-align: right;\">\n",
       "      <th></th>\n",
       "      <th>Model Predictions</th>\n",
       "      <th>Actual Values</th>\n",
       "    </tr>\n",
       "  </thead>\n",
       "  <tbody>\n",
       "    <tr>\n",
       "      <th>0</th>\n",
       "      <td>53.244671</td>\n",
       "      <td>54.0</td>\n",
       "    </tr>\n",
       "    <tr>\n",
       "      <th>1</th>\n",
       "      <td>51.477100</td>\n",
       "      <td>47.0</td>\n",
       "    </tr>\n",
       "    <tr>\n",
       "      <th>2</th>\n",
       "      <td>51.034191</td>\n",
       "      <td>41.0</td>\n",
       "    </tr>\n",
       "    <tr>\n",
       "      <th>3</th>\n",
       "      <td>49.471394</td>\n",
       "      <td>55.0</td>\n",
       "    </tr>\n",
       "    <tr>\n",
       "      <th>4</th>\n",
       "      <td>50.022430</td>\n",
       "      <td>50.0</td>\n",
       "    </tr>\n",
       "    <tr>\n",
       "      <th>...</th>\n",
       "      <td>...</td>\n",
       "      <td>...</td>\n",
       "    </tr>\n",
       "    <tr>\n",
       "      <th>1780</th>\n",
       "      <td>72.993553</td>\n",
       "      <td>80.0</td>\n",
       "    </tr>\n",
       "    <tr>\n",
       "      <th>1781</th>\n",
       "      <td>73.617737</td>\n",
       "      <td>70.0</td>\n",
       "    </tr>\n",
       "    <tr>\n",
       "      <th>1782</th>\n",
       "      <td>72.073982</td>\n",
       "      <td>77.0</td>\n",
       "    </tr>\n",
       "    <tr>\n",
       "      <th>1783</th>\n",
       "      <td>72.573189</td>\n",
       "      <td>71.0</td>\n",
       "    </tr>\n",
       "    <tr>\n",
       "      <th>1784</th>\n",
       "      <td>72.669731</td>\n",
       "      <td>75.0</td>\n",
       "    </tr>\n",
       "  </tbody>\n",
       "</table>\n",
       "<p>1785 rows × 2 columns</p>\n",
       "</div>"
      ],
      "text/plain": [
       "      Model Predictions  Actual Values\n",
       "0             53.244671           54.0\n",
       "1             51.477100           47.0\n",
       "2             51.034191           41.0\n",
       "3             49.471394           55.0\n",
       "4             50.022430           50.0\n",
       "...                 ...            ...\n",
       "1780          72.993553           80.0\n",
       "1781          73.617737           70.0\n",
       "1782          72.073982           77.0\n",
       "1783          72.573189           71.0\n",
       "1784          72.669731           75.0\n",
       "\n",
       "[1785 rows x 2 columns]"
      ]
     },
     "execution_count": 29,
     "metadata": {},
     "output_type": "execute_result"
    }
   ],
   "source": [
    "train_predictions=model.predict(X_train).flatten()\n",
    "train_predictions=scaler.inverse_transform(train_predictions.reshape(-1,1)).flatten()\n",
    "true_y_train=scaler.inverse_transform(y_train.reshape(-1,1)).flatten()\n",
    "train_results=pd.DataFrame(data={'Model Predictions':train_predictions, 'Actual Values':true_y_train})\n",
    "train_results\n",
    "#train_predictions"
   ]
  },
  {
   "cell_type": "code",
   "execution_count": 30,
   "id": "56ee1993-a39d-4bd8-983c-b5c42c4e09b0",
   "metadata": {
    "tags": []
   },
   "outputs": [
    {
     "name": "stdout",
     "output_type": "stream",
     "text": [
      "Mean Absolute Error: 6.6617852945621605\n",
      "Mean Squared Error: 76.49110411226272\n",
      "Root Mean Squared Error: 8.745919283429428\n",
      "Mean Absolute Percentage Error: 12.93%\n"
     ]
    }
   ],
   "source": [
    "# Calculate metrics\n",
    "mae = mean_absolute_error(train_results['Actual Values'], train_results['Model Predictions'])\n",
    "mse = mean_squared_error(train_results['Actual Values'], train_results['Model Predictions'])\n",
    "rmse = np.sqrt(mse)\n",
    "MAPE=mean_absolute_percentage_error(train_results['Actual Values'], train_results['Model Predictions'])\n",
    "#r2 = r2_score(test['Total'], test['Predictions'])\n",
    "#f1 = f1_score(test['Total'], test['Predictions'])\n",
    "#acc = accuracy_score(test['Total'], test['Predictions'])\n",
    "# Print metrics\n",
    "print(f'Mean Absolute Error: {mae}')\n",
    "print(f'Mean Squared Error: {mse}')\n",
    "print(f'Root Mean Squared Error: {rmse}')\n",
    "print(f'Mean Absolute Percentage Error: {round(MAPE*100,2)}%')\n",
    "\n",
    "#print(f'R-squared: {r2}')\n",
    "#print(f'f1 Score: {r2}')\n",
    "#print(f'Accuracy Score: {r2}')"
   ]
  },
  {
   "cell_type": "code",
   "execution_count": 31,
   "id": "0b8b3ca8-00c5-44ae-b37e-b2cde3848617",
   "metadata": {
    "tags": []
   },
   "outputs": [
    {
     "data": {
      "text/plain": [
       "<matplotlib.legend.Legend at 0x19d0632e090>"
      ]
     },
     "execution_count": 31,
     "metadata": {},
     "output_type": "execute_result"
    },
    {
     "data": {
      "image/png": "[encoded data removed]",
      "text/plain": [
       "<Figure size 2000x300 with 1 Axes>"
      ]
     },
     "metadata": {},
     "output_type": "display_data"
    }
   ],
   "source": [
    "#plt.plot(train_results['Train Predictions'][:50])\n",
    "#plt.plot(train_results['Actual Values'][:50])\n",
    "\n",
    "fig=plt.figure(figsize=(20,3))\n",
    "ax=fig.add_subplot(111)\n",
    "train_results['Model Predictions'][:50].plot(ax=ax)\n",
    "train_results['Actual Values'][:50].plot(ax=ax)\n",
    "#plt.plot(df)+plt.plot(test['Predictions'])\n",
    "plt.legend()"
   ]
  },
  {
   "cell_type": "code",
   "execution_count": 32,
   "id": "03bef4c8-fd3e-43bb-a660-88b3a441dbf0",
   "metadata": {
    "tags": []
   },
   "outputs": [
    {
     "name": "stdout",
     "output_type": "stream",
     "text": [
      "7/7 [==============================] - 0s 2ms/step\n"
     ]
    },
    {
     "data": {
      "text/html": [
       "<div>\n",
       "<style scoped>\n",
       "    .dataframe tbody tr th:only-of-type {\n",
       "        vertical-align: middle;\n",
       "    }\n",
       "\n",
       "    .dataframe tbody tr th {\n",
       "        vertical-align: top;\n",
       "    }\n",
       "\n",
       "    .dataframe thead th {\n",
       "        text-align: right;\n",
       "    }\n",
       "</style>\n",
       "<table border=\"1\" class=\"dataframe\">\n",
       "  <thead>\n",
       "    <tr style=\"text-align: right;\">\n",
       "      <th></th>\n",
       "      <th>Model Predictions</th>\n",
       "      <th>Actual Values</th>\n",
       "    </tr>\n",
       "  </thead>\n",
       "  <tbody>\n",
       "    <tr>\n",
       "      <th>0</th>\n",
       "      <td>72.868156</td>\n",
       "      <td>79.0</td>\n",
       "    </tr>\n",
       "    <tr>\n",
       "      <th>1</th>\n",
       "      <td>73.475365</td>\n",
       "      <td>70.0</td>\n",
       "    </tr>\n",
       "    <tr>\n",
       "      <th>2</th>\n",
       "      <td>72.299843</td>\n",
       "      <td>83.0</td>\n",
       "    </tr>\n",
       "    <tr>\n",
       "      <th>3</th>\n",
       "      <td>73.738075</td>\n",
       "      <td>70.0</td>\n",
       "    </tr>\n",
       "    <tr>\n",
       "      <th>4</th>\n",
       "      <td>72.583168</td>\n",
       "      <td>76.0</td>\n",
       "    </tr>\n",
       "    <tr>\n",
       "      <th>...</th>\n",
       "      <td>...</td>\n",
       "      <td>...</td>\n",
       "    </tr>\n",
       "    <tr>\n",
       "      <th>218</th>\n",
       "      <td>39.331928</td>\n",
       "      <td>39.0</td>\n",
       "    </tr>\n",
       "    <tr>\n",
       "      <th>219</th>\n",
       "      <td>39.638088</td>\n",
       "      <td>30.0</td>\n",
       "    </tr>\n",
       "    <tr>\n",
       "      <th>220</th>\n",
       "      <td>39.184383</td>\n",
       "      <td>31.0</td>\n",
       "    </tr>\n",
       "    <tr>\n",
       "      <th>221</th>\n",
       "      <td>38.597645</td>\n",
       "      <td>42.0</td>\n",
       "    </tr>\n",
       "    <tr>\n",
       "      <th>222</th>\n",
       "      <td>38.795525</td>\n",
       "      <td>32.0</td>\n",
       "    </tr>\n",
       "  </tbody>\n",
       "</table>\n",
       "<p>223 rows × 2 columns</p>\n",
       "</div>"
      ],
      "text/plain": [
       "     Model Predictions  Actual Values\n",
       "0            72.868156           79.0\n",
       "1            73.475365           70.0\n",
       "2            72.299843           83.0\n",
       "3            73.738075           70.0\n",
       "4            72.583168           76.0\n",
       "..                 ...            ...\n",
       "218          39.331928           39.0\n",
       "219          39.638088           30.0\n",
       "220          39.184383           31.0\n",
       "221          38.597645           42.0\n",
       "222          38.795525           32.0\n",
       "\n",
       "[223 rows x 2 columns]"
      ]
     },
     "execution_count": 32,
     "metadata": {},
     "output_type": "execute_result"
    }
   ],
   "source": [
    "val_predictions = model.predict(X_val).flatten()\n",
    "val_predictions=scaler.inverse_transform(val_predictions.reshape(-1,1)).flatten()\n",
    "true_y_val=scaler.inverse_transform(y_val.reshape(-1,1)).flatten()\n",
    "val_results = pd.DataFrame(data={'Model Predictions':val_predictions, 'Actual Values':true_y_val})\n",
    "val_results"
   ]
  },
  {
   "cell_type": "code",
   "execution_count": 33,
   "id": "6ccbae38-1d09-4594-beb0-906284f8486c",
   "metadata": {},
   "outputs": [
    {
     "name": "stdout",
     "output_type": "stream",
     "text": [
      "Mean Absolute Error: 5.5095214501624685\n",
      "Mean Squared Error: 46.67871771233768\n",
      "Root Mean Squared Error: 6.832182499929117\n",
      "Mean Absolute Percentage Error: 13.09%\n"
     ]
    }
   ],
   "source": [
    "mae = mean_absolute_error(val_results['Actual Values'], val_results['Model Predictions'])\n",
    "mse = mean_squared_error(val_results['Actual Values'], val_results['Model Predictions'])\n",
    "rmse = np.sqrt(mse)\n",
    "MAPE=mean_absolute_percentage_error(val_results['Actual Values'], val_results['Model Predictions'])\n",
    "#r2 = r2_score(test['Total'], test['Predictions'])\n",
    "#f1 = f1_score(test['Total'], test['Predictions'])\n",
    "#acc = accuracy_score(test['Total'], test['Predictions'])\n",
    "# Print metrics\n",
    "print(f'Mean Absolute Error: {mae}')\n",
    "print(f'Mean Squared Error: {mse}')\n",
    "print(f'Root Mean Squared Error: {rmse}')\n",
    "print(f'Mean Absolute Percentage Error: {round(MAPE*100,2)}%')"
   ]
  },
  {
   "cell_type": "code",
   "execution_count": 34,
   "id": "4dabccac-50bd-4bee-ab72-9f475bcc6a85",
   "metadata": {},
   "outputs": [
    {
     "data": {
      "text/plain": [
       "<matplotlib.legend.Legend at 0x19cfd9e3210>"
      ]
     },
     "execution_count": 34,
     "metadata": {},
     "output_type": "execute_result"
    },
    {
     "data": {
      "image/png": "[encoded data removed]",
      "text/plain": [
       "<Figure size 2000x300 with 1 Axes>"
      ]
     },
     "metadata": {},
     "output_type": "display_data"
    }
   ],
   "source": [
    "fig=plt.figure(figsize=(20,3))\n",
    "ax=fig.add_subplot(111)\n",
    "val_results['Model Predictions'][:50].plot(ax=ax)\n",
    "val_results['Actual Values'][:50].plot(ax=ax)\n",
    "#plt.plot(df)+plt.plot(test['Predictions'])\n",
    "plt.legend()"
   ]
  },
  {
   "cell_type": "code",
   "execution_count": 35,
   "id": "e847c522-b195-44f7-937b-ec8e0edec3d6",
   "metadata": {
    "tags": []
   },
   "outputs": [
    {
     "name": "stdout",
     "output_type": "stream",
     "text": [
      "7/7 [==============================] - 0s 2ms/step\n"
     ]
    },
    {
     "data": {
      "text/html": [
       "<div>\n",
       "<style scoped>\n",
       "    .dataframe tbody tr th:only-of-type {\n",
       "        vertical-align: middle;\n",
       "    }\n",
       "\n",
       "    .dataframe tbody tr th {\n",
       "        vertical-align: top;\n",
       "    }\n",
       "\n",
       "    .dataframe thead th {\n",
       "        text-align: right;\n",
       "    }\n",
       "</style>\n",
       "<table border=\"1\" class=\"dataframe\">\n",
       "  <thead>\n",
       "    <tr style=\"text-align: right;\">\n",
       "      <th></th>\n",
       "      <th>Model Predictions</th>\n",
       "      <th>Actual Values</th>\n",
       "    </tr>\n",
       "  </thead>\n",
       "  <tbody>\n",
       "    <tr>\n",
       "      <th>0</th>\n",
       "      <td>38.548870</td>\n",
       "      <td>46.0</td>\n",
       "    </tr>\n",
       "    <tr>\n",
       "      <th>1</th>\n",
       "      <td>39.066257</td>\n",
       "      <td>40.0</td>\n",
       "    </tr>\n",
       "    <tr>\n",
       "      <th>2</th>\n",
       "      <td>39.322643</td>\n",
       "      <td>36.0</td>\n",
       "    </tr>\n",
       "    <tr>\n",
       "      <th>3</th>\n",
       "      <td>39.487160</td>\n",
       "      <td>34.0</td>\n",
       "    </tr>\n",
       "    <tr>\n",
       "      <th>4</th>\n",
       "      <td>39.117794</td>\n",
       "      <td>32.0</td>\n",
       "    </tr>\n",
       "    <tr>\n",
       "      <th>...</th>\n",
       "      <td>...</td>\n",
       "      <td>...</td>\n",
       "    </tr>\n",
       "    <tr>\n",
       "      <th>209</th>\n",
       "      <td>37.153175</td>\n",
       "      <td>32.0</td>\n",
       "    </tr>\n",
       "    <tr>\n",
       "      <th>210</th>\n",
       "      <td>36.637566</td>\n",
       "      <td>30.0</td>\n",
       "    </tr>\n",
       "    <tr>\n",
       "      <th>211</th>\n",
       "      <td>35.918106</td>\n",
       "      <td>30.0</td>\n",
       "    </tr>\n",
       "    <tr>\n",
       "      <th>212</th>\n",
       "      <td>35.218441</td>\n",
       "      <td>22.0</td>\n",
       "    </tr>\n",
       "    <tr>\n",
       "      <th>213</th>\n",
       "      <td>33.632416</td>\n",
       "      <td>46.0</td>\n",
       "    </tr>\n",
       "  </tbody>\n",
       "</table>\n",
       "<p>214 rows × 2 columns</p>\n",
       "</div>"
      ],
      "text/plain": [
       "     Model Predictions  Actual Values\n",
       "0            38.548870           46.0\n",
       "1            39.066257           40.0\n",
       "2            39.322643           36.0\n",
       "3            39.487160           34.0\n",
       "4            39.117794           32.0\n",
       "..                 ...            ...\n",
       "209          37.153175           32.0\n",
       "210          36.637566           30.0\n",
       "211          35.918106           30.0\n",
       "212          35.218441           22.0\n",
       "213          33.632416           46.0\n",
       "\n",
       "[214 rows x 2 columns]"
      ]
     },
     "execution_count": 35,
     "metadata": {},
     "output_type": "execute_result"
    }
   ],
   "source": [
    "test_predictions = model.predict(X_test).flatten()\n",
    "test_predictions=scaler.inverse_transform(test_predictions.reshape(-1,1)).flatten()\n",
    "true_y_test=scaler.inverse_transform(y_test.reshape(-1,1)).flatten()\n",
    "test_results = pd.DataFrame(data={'Model Predictions':test_predictions, 'Actual Values':true_y_test})\n",
    "test_results"
   ]
  },
  {
   "cell_type": "code",
   "execution_count": 36,
   "id": "276ba658-662c-4d66-bd1f-46dbbf9375f7",
   "metadata": {
    "tags": []
   },
   "outputs": [
    {
     "name": "stdout",
     "output_type": "stream",
     "text": [
      "Mean Absolute Error: 5.54324287343248\n",
      "Mean Squared Error: 52.73106214257282\n",
      "Root Mean Squared Error: 7.261615670260498\n",
      "Mean Absolute Percentage Error: 17.41%\n"
     ]
    }
   ],
   "source": [
    "# Calculate metrics\n",
    "mae = mean_absolute_error(test_results['Actual Values'], test_results['Model Predictions'])\n",
    "mse = mean_squared_error(test_results['Actual Values'], test_results['Model Predictions'])\n",
    "rmse = np.sqrt(mse)\n",
    "MAPE=mean_absolute_percentage_error(test_results['Actual Values'], test_results['Model Predictions'])\n",
    "#r2 = r2_score(test['Total'], test['Predictions'])\n",
    "#f1 = f1_score(test['Total'], test['Predictions'])\n",
    "#acc = accuracy_score(test['Total'], test['Predictions'])\n",
    "# Print metrics\n",
    "print(f'Mean Absolute Error: {mae}')\n",
    "print(f'Mean Squared Error: {mse}')\n",
    "print(f'Root Mean Squared Error: {rmse}')\n",
    "print(f'Mean Absolute Percentage Error: {round(MAPE*100,2)}%')"
   ]
  },
  {
   "cell_type": "code",
   "execution_count": 112,
   "id": "d386aff8-1659-49fe-86a4-98fe0cdf6e67",
   "metadata": {
    "tags": []
   },
   "outputs": [
    {
     "data": {
      "text/plain": [
       "[]"
      ]
     },
     "execution_count": 112,
     "metadata": {},
     "output_type": "execute_result"
    },
    {
     "data": {
      "image/png": "[encoded data removed]",
      "text/plain": [
       "<Figure size 2000x300 with 1 Axes>"
      ]
     },
     "metadata": {},
     "output_type": "display_data"
    }
   ],
   "source": [
    "fig=plt.figure(figsize=(20,3))\n",
    "ax=fig.add_subplot(111)\n",
    "test_results['Model Predictions'].plot(ax=ax)\n",
    "test_results['Actual Values'].plot(ax=ax)\n",
    "plt.title('Forecast vs Actuals for LSTM')\n",
    "#plt.plot(df)+plt.plot(test['Predictions'])\n",
    "plt.legend()\n",
    "plt.plot()"
   ]
  },
  {
   "cell_type": "code",
   "execution_count": 38,
   "id": "6bc2e684-adf1-4f7a-b193-1b3552e16658",
   "metadata": {
    "tags": []
   },
   "outputs": [
    {
     "name": "stdout",
     "output_type": "stream",
     "text": [
      "1/1 [==============================] - 0s 998us/step\n",
      "[0.42268041 0.22680412 0.35051546 0.27835052 0.28865979 0.30927835\n",
      " 0.28865979 0.28865979 0.20618557 0.45360825] ------> [0.33954513]\n",
      "1/1 [==============================] - 0s 0s/step\n",
      "[0.22680412 0.35051546 0.27835052 0.28865979 0.30927835 0.28865979\n",
      " 0.28865979 0.20618557 0.45360825 0.33954513] ------> [0.33888778]\n",
      "1/1 [==============================] - 0s 2ms/step\n",
      "[0.35051546 0.27835052 0.28865979 0.30927835 0.28865979 0.28865979\n",
      " 0.20618557 0.45360825 0.33954513 0.33888778] ------> [0.34663683]\n",
      "1/1 [==============================] - 0s 6ms/step\n",
      "[0.27835052 0.28865979 0.30927835 0.28865979 0.28865979 0.20618557\n",
      " 0.45360825 0.33954513 0.33888778 0.34663683] ------> [0.3490596]\n",
      "1/1 [==============================] - 0s 0s/step\n",
      "[0.28865979 0.30927835 0.28865979 0.28865979 0.20618557 0.45360825\n",
      " 0.33954513 0.33888778 0.34663683 0.34905961] ------> [0.35466087]\n",
      "1/1 [==============================] - 0s 3ms/step\n",
      "[0.30927835 0.28865979 0.28865979 0.20618557 0.45360825 0.33954513\n",
      " 0.33888778 0.34663683 0.34905961 0.35466087] ------> [0.35983548]\n",
      "1/1 [==============================] - 0s 9ms/step\n",
      "[0.28865979 0.28865979 0.20618557 0.45360825 0.33954513 0.33888778\n",
      " 0.34663683 0.34905961 0.35466087 0.35983548] ------> [0.36419466]\n",
      "1/1 [==============================] - 0s 1ms/step\n",
      "[0.28865979 0.20618557 0.45360825 0.33954513 0.33888778 0.34663683\n",
      " 0.34905961 0.35466087 0.35983548 0.36419466] ------> [0.36952835]\n",
      "1/1 [==============================] - 0s 5ms/step\n",
      "[0.20618557 0.45360825 0.33954513 0.33888778 0.34663683 0.34905961\n",
      " 0.35466087 0.35983548 0.36419466 0.36952835] ------> [0.37492242]\n",
      "1/1 [==============================] - 0s 3ms/step\n",
      "[0.45360825 0.33954513 0.33888778 0.34663683 0.34905961 0.35466087\n",
      " 0.35983548 0.36419466 0.36952835 0.37492242] ------> [0.38394362]\n",
      "1/1 [==============================] - 0s 1ms/step\n",
      "[0.33954513 0.33888778 0.34663683 0.34905961 0.35466087 0.35983548\n",
      " 0.36419466 0.36952835 0.37492242 0.38394362] ------> [0.38221502]\n",
      "1/1 [==============================] - 0s 0s/step\n",
      "[0.33888778 0.34663683 0.34905961 0.35466087 0.35983548 0.36419466\n",
      " 0.36952835 0.37492242 0.38394362 0.38221502] ------> [0.38582236]\n",
      "1/1 [==============================] - 0s 4ms/step\n",
      "[0.34663683 0.34905961 0.35466087 0.35983548 0.36419466 0.36952835\n",
      " 0.37492242 0.38394362 0.38221502 0.38582236] ------> [0.3895333]\n",
      "1/1 [==============================] - 0s 540us/step\n",
      "[0.34905961 0.35466087 0.35983548 0.36419466 0.36952835 0.37492242\n",
      " 0.38394362 0.38221502 0.38582236 0.38953331] ------> [0.39298013]\n",
      "1/1 [==============================] - 0s 0s/step\n",
      "[0.35466087 0.35983548 0.36419466 0.36952835 0.37492242 0.38394362\n",
      " 0.38221502 0.38582236 0.38953331 0.39298013] ------> [0.39640403]\n",
      "1/1 [==============================] - 0s 4ms/step\n",
      "[0.35983548 0.36419466 0.36952835 0.37492242 0.38394362 0.38221502\n",
      " 0.38582236 0.38953331 0.39298013 0.39640403] ------> [0.39966357]\n",
      "1/1 [==============================] - 0s 12ms/step\n",
      "[0.36419466 0.36952835 0.37492242 0.38394362 0.38221502 0.38582236\n",
      " 0.38953331 0.39298013 0.39640403 0.39966357] ------> [0.40277907]\n",
      "1/1 [==============================] - 0s 5ms/step\n",
      "[0.36952835 0.37492242 0.38394362 0.38221502 0.38582236 0.38953331\n",
      " 0.39298013 0.39640403 0.39966357 0.40277907] ------> [0.405786]\n",
      "1/1 [==============================] - 0s 0s/step\n",
      "[0.37492242 0.38394362 0.38221502 0.38582236 0.38953331 0.39298013\n",
      " 0.39640403 0.39966357 0.40277907 0.40578601] ------> [0.4086392]\n",
      "1/1 [==============================] - 0s 0s/step\n",
      "[0.38394362 0.38221502 0.38582236 0.38953331 0.39298013 0.39640403\n",
      " 0.39966357 0.40277907 0.40578601 0.40863919] ------> [0.4113349]\n",
      "1/1 [==============================] - 0s 1ms/step\n",
      "[0.38221502 0.38582236 0.38953331 0.39298013 0.39640403 0.39966357\n",
      " 0.40277907 0.40578601 0.40863919 0.4113349 ] ------> [0.41371298]\n",
      "1/1 [==============================] - 0s 4ms/step\n",
      "[0.38582236 0.38953331 0.39298013 0.39640403 0.39966357 0.40277907\n",
      " 0.40578601 0.40863919 0.4113349  0.41371298] ------> [0.41625184]\n",
      "1/1 [==============================] - 0s 2ms/step\n",
      "[0.38953331 0.39298013 0.39640403 0.39966357 0.40277907 0.40578601\n",
      " 0.40863919 0.4113349  0.41371298 0.41625184] ------> [0.4186998]\n",
      "1/1 [==============================] - 0s 17ms/step\n",
      "[0.39298013 0.39640403 0.39966357 0.40277907 0.40578601 0.40863919\n",
      " 0.4113349  0.41371298 0.41625184 0.4186998 ] ------> [0.42105082]\n",
      "1/1 [==============================] - 0s 25ms/step\n",
      "[0.39640403 0.39966357 0.40277907 0.40578601 0.40863919 0.4113349\n",
      " 0.41371298 0.41625184 0.4186998  0.42105082] ------> [0.4233156]\n",
      "1/1 [==============================] - 0s 0s/step\n",
      "[0.39966357 0.40277907 0.40578601 0.40863919 0.4113349  0.41371298\n",
      " 0.41625184 0.4186998  0.42105082 0.42331561] ------> [0.4254933]\n",
      "1/1 [==============================] - 0s 10ms/step\n",
      "[0.40277907 0.40578601 0.40863919 0.4113349  0.41371298 0.41625184\n",
      " 0.4186998  0.42105082 0.42331561 0.4254933 ] ------> [0.42758942]\n",
      "1/1 [==============================] - 0s 9ms/step\n",
      "[0.40578601 0.40863919 0.4113349  0.41371298 0.41625184 0.4186998\n",
      " 0.42105082 0.42331561 0.4254933  0.42758942] ------> [0.42960823]\n",
      "1/1 [==============================] - 0s 10ms/step\n",
      "[0.40863919 0.4113349  0.41371298 0.41625184 0.4186998  0.42105082\n",
      " 0.42331561 0.4254933  0.42758942 0.42960823] ------> [0.43155268]\n",
      "1/1 [==============================] - 0s 9ms/step\n",
      "[0.4113349  0.41371298 0.41625184 0.4186998  0.42105082 0.42331561\n",
      " 0.4254933  0.42758942 0.42960823 0.43155268] ------> [0.43342784]\n"
     ]
    }
   ],
   "source": [
    "future_predictions=[]\n",
    "steps=10 # input steps\n",
    "features=1 # output features; we input 10 days data to output 11th day\n",
    "days=30 # we are predictig for 30 days\n",
    "current_batch=temp[-steps:].to_numpy().reshape((1,steps,features))\n",
    "\n",
    "for i in range(days):\n",
    "    current_pred=model.predict(current_batch)[0].flatten() #getting prediction value for first batch\n",
    "    future_predictions.append(current_pred) #append the prediction into the array\n",
    "    print(current_batch.flatten(),'------>',current_pred)\n",
    "    current_batch=np.append(current_batch[:,1:,:],[[current_pred]],axis=1) #using prediction to update the batch and remove first value    "
   ]
  },
  {
   "cell_type": "code",
   "execution_count": 39,
   "id": "90ae5c90-f6d6-492f-9e69-49f45e09660e",
   "metadata": {
    "tags": []
   },
   "outputs": [
    {
     "data": {
      "text/plain": [
       "[array([0.33954513], dtype=float32),\n",
       " array([0.33888778], dtype=float32),\n",
       " array([0.34663683], dtype=float32),\n",
       " array([0.3490596], dtype=float32),\n",
       " array([0.35466087], dtype=float32),\n",
       " array([0.35983548], dtype=float32),\n",
       " array([0.36419466], dtype=float32),\n",
       " array([0.36952835], dtype=float32),\n",
       " array([0.37492242], dtype=float32),\n",
       " array([0.38394362], dtype=float32),\n",
       " array([0.38221502], dtype=float32),\n",
       " array([0.38582236], dtype=float32),\n",
       " array([0.3895333], dtype=float32),\n",
       " array([0.39298013], dtype=float32),\n",
       " array([0.39640403], dtype=float32),\n",
       " array([0.39966357], dtype=float32),\n",
       " array([0.40277907], dtype=float32),\n",
       " array([0.405786], dtype=float32),\n",
       " array([0.4086392], dtype=float32),\n",
       " array([0.4113349], dtype=float32),\n",
       " array([0.41371298], dtype=float32),\n",
       " array([0.41625184], dtype=float32),\n",
       " array([0.4186998], dtype=float32),\n",
       " array([0.42105082], dtype=float32),\n",
       " array([0.4233156], dtype=float32),\n",
       " array([0.4254933], dtype=float32),\n",
       " array([0.42758942], dtype=float32),\n",
       " array([0.42960823], dtype=float32),\n",
       " array([0.43155268], dtype=float32),\n",
       " array([0.43342784], dtype=float32)]"
      ]
     },
     "execution_count": 39,
     "metadata": {},
     "output_type": "execute_result"
    }
   ],
   "source": [
    "future_predictions"
   ]
  },
  {
   "cell_type": "code",
   "execution_count": 40,
   "id": "1154dec0-4047-4b2e-a935-cbe57e2ac55e",
   "metadata": {
    "tags": []
   },
   "outputs": [],
   "source": [
    "import math"
   ]
  },
  {
   "cell_type": "code",
   "execution_count": 41,
   "id": "fd9e9101-5a49-4007-8031-4526e9c7d348",
   "metadata": {
    "tags": []
   },
   "outputs": [
    {
     "data": {
      "text/plain": [
       "array([[34.93587768],\n",
       "       [34.87211475],\n",
       "       [35.62377268],\n",
       "       [35.85878232],\n",
       "       [36.40210426],\n",
       "       [36.90404114],\n",
       "       [37.32688215],\n",
       "       [37.84425026],\n",
       "       [38.36747518],\n",
       "       [39.24253088],\n",
       "       [39.07485723],\n",
       "       [39.42476851],\n",
       "       [39.78473118],\n",
       "       [40.11907247],\n",
       "       [40.45119071],\n",
       "       [40.76736605],\n",
       "       [41.06957003],\n",
       "       [41.36124274],\n",
       "       [41.63800168],\n",
       "       [41.8994855 ],\n",
       "       [42.1301589 ],\n",
       "       [42.37642831],\n",
       "       [42.61388069],\n",
       "       [42.84192923],\n",
       "       [43.0616146 ],\n",
       "       [43.2728501 ],\n",
       "       [43.4761734 ],\n",
       "       [43.6719979 ],\n",
       "       [43.8606098 ],\n",
       "       [44.04250053]])"
      ]
     },
     "execution_count": 41,
     "metadata": {},
     "output_type": "execute_result"
    }
   ],
   "source": [
    "future_predictions=scaler.inverse_transform(future_predictions)\n",
    "future_predictions"
   ]
  },
  {
   "cell_type": "code",
   "execution_count": 42,
   "id": "869b1d76-f90c-4c8d-9240-4bdad2872097",
   "metadata": {
    "tags": []
   },
   "outputs": [
    {
     "data": {
      "text/plain": [
       "34.87211474776268"
      ]
     },
     "execution_count": 42,
     "metadata": {},
     "output_type": "execute_result"
    }
   ],
   "source": [
    "float(future_predictions[1])"
   ]
  },
  {
   "cell_type": "code",
   "execution_count": 43,
   "id": "5bea292c-ca6e-4713-b25e-0476d87eef27",
   "metadata": {
    "tags": []
   },
   "outputs": [],
   "source": [
    "pred_data=[]\n",
    "\n",
    "for i in range(30):\n",
    "    a=float(future_predictions[i])\n",
    "    pred_data.append(a)"
   ]
  },
  {
   "cell_type": "code",
   "execution_count": 44,
   "id": "e51e2ab6-74ac-477f-ab5b-9f3cdd3f948a",
   "metadata": {
    "tags": []
   },
   "outputs": [
    {
     "data": {
      "text/plain": [
       "30"
      ]
     },
     "execution_count": 44,
     "metadata": {},
     "output_type": "execute_result"
    }
   ],
   "source": [
    "index_future=pd.date_range(start='2025-02-10',end='2025-03-11')\n",
    "len(index_future)"
   ]
  },
  {
   "cell_type": "code",
   "execution_count": 45,
   "id": "55ae0d1e-4036-4f05-8d2d-e844f8dc234f",
   "metadata": {
    "tags": []
   },
   "outputs": [
    {
     "data": {
      "text/plain": [
       "DatetimeIndex(['2025-02-10', '2025-02-11', '2025-02-12', '2025-02-13',\n",
       "               '2025-02-14', '2025-02-15', '2025-02-16', '2025-02-17',\n",
       "               '2025-02-18', '2025-02-19', '2025-02-20', '2025-02-21',\n",
       "               '2025-02-22', '2025-02-23', '2025-02-24', '2025-02-25',\n",
       "               '2025-02-26', '2025-02-27', '2025-02-28', '2025-03-01',\n",
       "               '2025-03-02', '2025-03-03', '2025-03-04', '2025-03-05',\n",
       "               '2025-03-06', '2025-03-07', '2025-03-08', '2025-03-09',\n",
       "               '2025-03-10', '2025-03-11'],\n",
       "              dtype='datetime64[ns]', freq='D')"
      ]
     },
     "execution_count": 45,
     "metadata": {},
     "output_type": "execute_result"
    }
   ],
   "source": [
    "index_future"
   ]
  },
  {
   "cell_type": "code",
   "execution_count": 46,
   "id": "e4237905-3abd-4e3b-83dc-8e37c12041d5",
   "metadata": {
    "tags": []
   },
   "outputs": [
    {
     "data": {
      "text/html": [
       "<div>\n",
       "<style scoped>\n",
       "    .dataframe tbody tr th:only-of-type {\n",
       "        vertical-align: middle;\n",
       "    }\n",
       "\n",
       "    .dataframe tbody tr th {\n",
       "        vertical-align: top;\n",
       "    }\n",
       "\n",
       "    .dataframe thead th {\n",
       "        text-align: right;\n",
       "    }\n",
       "</style>\n",
       "<table border=\"1\" class=\"dataframe\">\n",
       "  <thead>\n",
       "    <tr style=\"text-align: right;\">\n",
       "      <th></th>\n",
       "      <th>date</th>\n",
       "      <th>Predicted Traffic</th>\n",
       "    </tr>\n",
       "  </thead>\n",
       "  <tbody>\n",
       "    <tr>\n",
       "      <th>0</th>\n",
       "      <td>2025-02-10</td>\n",
       "      <td>34.935878</td>\n",
       "    </tr>\n",
       "    <tr>\n",
       "      <th>1</th>\n",
       "      <td>2025-02-11</td>\n",
       "      <td>34.872115</td>\n",
       "    </tr>\n",
       "    <tr>\n",
       "      <th>2</th>\n",
       "      <td>2025-02-12</td>\n",
       "      <td>35.623773</td>\n",
       "    </tr>\n",
       "    <tr>\n",
       "      <th>3</th>\n",
       "      <td>2025-02-13</td>\n",
       "      <td>35.858782</td>\n",
       "    </tr>\n",
       "    <tr>\n",
       "      <th>4</th>\n",
       "      <td>2025-02-14</td>\n",
       "      <td>36.402104</td>\n",
       "    </tr>\n",
       "    <tr>\n",
       "      <th>5</th>\n",
       "      <td>2025-02-15</td>\n",
       "      <td>36.904041</td>\n",
       "    </tr>\n",
       "    <tr>\n",
       "      <th>6</th>\n",
       "      <td>2025-02-16</td>\n",
       "      <td>37.326882</td>\n",
       "    </tr>\n",
       "    <tr>\n",
       "      <th>7</th>\n",
       "      <td>2025-02-17</td>\n",
       "      <td>37.844250</td>\n",
       "    </tr>\n",
       "    <tr>\n",
       "      <th>8</th>\n",
       "      <td>2025-02-18</td>\n",
       "      <td>38.367475</td>\n",
       "    </tr>\n",
       "    <tr>\n",
       "      <th>9</th>\n",
       "      <td>2025-02-19</td>\n",
       "      <td>39.242531</td>\n",
       "    </tr>\n",
       "    <tr>\n",
       "      <th>10</th>\n",
       "      <td>2025-02-20</td>\n",
       "      <td>39.074857</td>\n",
       "    </tr>\n",
       "    <tr>\n",
       "      <th>11</th>\n",
       "      <td>2025-02-21</td>\n",
       "      <td>39.424769</td>\n",
       "    </tr>\n",
       "    <tr>\n",
       "      <th>12</th>\n",
       "      <td>2025-02-22</td>\n",
       "      <td>39.784731</td>\n",
       "    </tr>\n",
       "    <tr>\n",
       "      <th>13</th>\n",
       "      <td>2025-02-23</td>\n",
       "      <td>40.119072</td>\n",
       "    </tr>\n",
       "    <tr>\n",
       "      <th>14</th>\n",
       "      <td>2025-02-24</td>\n",
       "      <td>40.451191</td>\n",
       "    </tr>\n",
       "    <tr>\n",
       "      <th>15</th>\n",
       "      <td>2025-02-25</td>\n",
       "      <td>40.767366</td>\n",
       "    </tr>\n",
       "    <tr>\n",
       "      <th>16</th>\n",
       "      <td>2025-02-26</td>\n",
       "      <td>41.069570</td>\n",
       "    </tr>\n",
       "    <tr>\n",
       "      <th>17</th>\n",
       "      <td>2025-02-27</td>\n",
       "      <td>41.361243</td>\n",
       "    </tr>\n",
       "    <tr>\n",
       "      <th>18</th>\n",
       "      <td>2025-02-28</td>\n",
       "      <td>41.638002</td>\n",
       "    </tr>\n",
       "    <tr>\n",
       "      <th>19</th>\n",
       "      <td>2025-03-01</td>\n",
       "      <td>41.899485</td>\n",
       "    </tr>\n",
       "    <tr>\n",
       "      <th>20</th>\n",
       "      <td>2025-03-02</td>\n",
       "      <td>42.130159</td>\n",
       "    </tr>\n",
       "    <tr>\n",
       "      <th>21</th>\n",
       "      <td>2025-03-03</td>\n",
       "      <td>42.376428</td>\n",
       "    </tr>\n",
       "    <tr>\n",
       "      <th>22</th>\n",
       "      <td>2025-03-04</td>\n",
       "      <td>42.613881</td>\n",
       "    </tr>\n",
       "    <tr>\n",
       "      <th>23</th>\n",
       "      <td>2025-03-05</td>\n",
       "      <td>42.841929</td>\n",
       "    </tr>\n",
       "    <tr>\n",
       "      <th>24</th>\n",
       "      <td>2025-03-06</td>\n",
       "      <td>43.061615</td>\n",
       "    </tr>\n",
       "    <tr>\n",
       "      <th>25</th>\n",
       "      <td>2025-03-07</td>\n",
       "      <td>43.272850</td>\n",
       "    </tr>\n",
       "    <tr>\n",
       "      <th>26</th>\n",
       "      <td>2025-03-08</td>\n",
       "      <td>43.476173</td>\n",
       "    </tr>\n",
       "    <tr>\n",
       "      <th>27</th>\n",
       "      <td>2025-03-09</td>\n",
       "      <td>43.671998</td>\n",
       "    </tr>\n",
       "    <tr>\n",
       "      <th>28</th>\n",
       "      <td>2025-03-10</td>\n",
       "      <td>43.860610</td>\n",
       "    </tr>\n",
       "    <tr>\n",
       "      <th>29</th>\n",
       "      <td>2025-03-11</td>\n",
       "      <td>44.042501</td>\n",
       "    </tr>\n",
       "  </tbody>\n",
       "</table>\n",
       "</div>"
      ],
      "text/plain": [
       "         date  Predicted Traffic\n",
       "0  2025-02-10          34.935878\n",
       "1  2025-02-11          34.872115\n",
       "2  2025-02-12          35.623773\n",
       "3  2025-02-13          35.858782\n",
       "4  2025-02-14          36.402104\n",
       "5  2025-02-15          36.904041\n",
       "6  2025-02-16          37.326882\n",
       "7  2025-02-17          37.844250\n",
       "8  2025-02-18          38.367475\n",
       "9  2025-02-19          39.242531\n",
       "10 2025-02-20          39.074857\n",
       "11 2025-02-21          39.424769\n",
       "12 2025-02-22          39.784731\n",
       "13 2025-02-23          40.119072\n",
       "14 2025-02-24          40.451191\n",
       "15 2025-02-25          40.767366\n",
       "16 2025-02-26          41.069570\n",
       "17 2025-02-27          41.361243\n",
       "18 2025-02-28          41.638002\n",
       "19 2025-03-01          41.899485\n",
       "20 2025-03-02          42.130159\n",
       "21 2025-03-03          42.376428\n",
       "22 2025-03-04          42.613881\n",
       "23 2025-03-05          42.841929\n",
       "24 2025-03-06          43.061615\n",
       "25 2025-03-07          43.272850\n",
       "26 2025-03-08          43.476173\n",
       "27 2025-03-09          43.671998\n",
       "28 2025-03-10          43.860610\n",
       "29 2025-03-11          44.042501"
      ]
     },
     "execution_count": 46,
     "metadata": {},
     "output_type": "execute_result"
    }
   ],
   "source": [
    "future_results = pd.DataFrame(data={'date':index_future, 'Predicted Traffic':pred_data})\n",
    "#future_results.index=pd.to_datetime(future_predictions['date'])#,format='%Y-%m-%d')\n",
    "#future_results['Traffic'] = future_results['Traffic'].astype(str).astype(float)\n",
    "future_results"
   ]
  },
  {
   "cell_type": "code",
   "execution_count": 47,
   "id": "a2497b2e-1167-4caa-b87e-f44399ef5a9c",
   "metadata": {
    "tags": []
   },
   "outputs": [],
   "source": [
    "#scaler.inverse_transform(temp.reshape(-1,1))"
   ]
  },
  {
   "cell_type": "code",
   "execution_count": 48,
   "id": "5ed56f63-2509-41b2-b2ef-6b22be34c9c4",
   "metadata": {
    "tags": []
   },
   "outputs": [
    {
     "data": {
      "text/plain": [
       "<matplotlib.legend.Legend at 0x19d05b45490>"
      ]
     },
     "execution_count": 48,
     "metadata": {},
     "output_type": "execute_result"
    },
    {
     "data": {
      "image/png": "[encoded data removed]",
      "text/plain": [
       "<Figure size 2000x300 with 1 Axes>"
      ]
     },
     "metadata": {},
     "output_type": "display_data"
    }
   ],
   "source": [
    "fig=plt.figure(figsize=(20,3))\n",
    "ax=fig.add_subplot(111)\n",
    "#temp[-150:].plot(ax=ax)\n",
    "future_results.plot(x='date',ax=ax)\n",
    "#plt.plot(df)+plt.plot(test['Predictions'])\n",
    "plt.legend(['Predicted Traffic'])"
   ]
  },
  {
   "cell_type": "code",
   "execution_count": 49,
   "id": "42a3f5a2-7064-41e1-81bf-4969a5f3b714",
   "metadata": {
    "tags": []
   },
   "outputs": [
    {
     "name": "stdout",
     "output_type": "stream",
     "text": [
      "Average Daily Vessel Traffic Across Suez Canal for next 30 days (February 10, 2025 - March 11, 2025): 40.14\n"
     ]
    }
   ],
   "source": [
    "print('Average Daily Vessel Traffic Across Suez Canal for next 30 days (February 10, 2025 - March 11, 2025):',round(future_results['Predicted Traffic'].mean(),2))"
   ]
  },
  {
   "cell_type": "code",
   "execution_count": null,
   "id": "3d8b94a8-0c2e-4089-b3f3-05463e030ed4",
   "metadata": {},
   "outputs": [],
   "source": []
  }
 ],
 "metadata": {
  "kernelspec": {
   "display_name": "Python 3 (ipykernel)",
   "language": "python",
   "name": "python3"
  },
  "language_info": {
   "codemirror_mode": {
    "name": "ipython",
    "version": 3
   },
   "file_extension": ".py",
   "mimetype": "text/x-python",
   "name": "python",
   "nbconvert_exporter": "python",
   "pygments_lexer": "ipython3",
   "version": "3.11.7"
  }
 },
 "nbformat": 4,
 "nbformat_minor": 5
}
